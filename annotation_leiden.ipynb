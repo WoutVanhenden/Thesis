{
 "cells": [
  {
   "cell_type": "code",
   "execution_count": 1,
   "metadata": {},
   "outputs": [
    {
     "name": "stderr",
     "output_type": "stream",
     "text": [
      "the value of the environment variable BASIC_DCT_BACKEND is not in [\"JAX\",\"SCIPY\"]\n"
     ]
    }
   ],
   "source": [
    "%load_ext autoreload\n",
    "%autoreload 2\n",
    "import warnings\n",
    "import numpy as np\n",
    "import time\n",
    "import os\n",
    "from dotenv import load_dotenv\n",
    "os.environ[\"USE_PYGEOS\"] = \"0\"\n",
    "import napari_sparrow as nas\n",
    "from spatialdata import read_zarr\n",
    "import os\n",
    "import pandas as pd\n",
    "import numpy as np\n",
    "import matplotlib.pyplot as plt\n",
    "import scanpy as sc\n",
    "%run own_and_modified_functions.ipynb\n",
    "warnings.simplefilter(action='ignore', category=FutureWarning)"
   ]
  },
  {
   "cell_type": "code",
   "execution_count": 2,
   "metadata": {},
   "outputs": [
    {
     "data": {
      "text/plain": [
       "SpatialData object with:\n",
       "├── Images\n",
       "│     ├── 'clahe': SpatialImage[cyx] (1, 12864, 10720)\n",
       "│     ├── 'raw_image': SpatialImage[cyx] (1, 12864, 10720)\n",
       "│     ├── 'tiling_correction': SpatialImage[cyx] (1, 12864, 10720)\n",
       "│     ├── 'tophat_filtered': SpatialImage[cyx] (1, 12864, 10720)\n",
       "│     └── 'transcript_density': SpatialImage[cyx] (1, 12864, 10720)\n",
       "├── Labels\n",
       "│     └── 'segmentation_mask': SpatialImage[yx] (12864, 10720)\n",
       "├── Points\n",
       "│     └── 'transcripts': DataFrame with shape: (4754932, 3) (2D points)\n",
       "├── Shapes\n",
       "│     ├── 'expanded_cells20': GeoDataFrame shape: (11228, 1) (2D shapes)\n",
       "│     ├── 'filtered_expanded_cells20_low_counts': GeoDataFrame shape: (367, 1) (2D shapes)\n",
       "│     ├── 'filtered_expanded_cells20_segmentation': GeoDataFrame shape: (50, 1) (2D shapes)\n",
       "│     ├── 'filtered_expanded_cells20_size': GeoDataFrame shape: (280, 1) (2D shapes)\n",
       "│     ├── 'filtered_segmentation_mask_boundaries_low_counts': GeoDataFrame shape: (367, 1) (2D shapes)\n",
       "│     ├── 'filtered_segmentation_mask_boundaries_segmentation': GeoDataFrame shape: (50, 1) (2D shapes)\n",
       "│     ├── 'filtered_segmentation_mask_boundaries_size': GeoDataFrame shape: (280, 1) (2D shapes)\n",
       "│     └── 'segmentation_mask_boundaries': GeoDataFrame shape: (11228, 1) (2D shapes)\n",
       "└── Table\n",
       "      └── AnnData object with n_obs × n_vars = 11228 × 99\n",
       "    obs: 'region', 'instance', 'n_genes_by_counts', 'log1p_n_genes_by_counts', 'total_counts', 'log1p_total_counts', 'pct_counts_in_top_2_genes', 'pct_counts_in_top_5_genes', 'n_counts', 'shapeSize', 'leiden'\n",
       "    var: 'n_cells_by_counts', 'mean_counts', 'log1p_mean_counts', 'pct_dropout_by_counts', 'total_counts', 'log1p_total_counts', 'n_cells', 'mean', 'std'\n",
       "    uns: 'leiden', 'leiden_colors', 'log1p', 'neighbors', 'pca', 'rank_genes_groups', 'spatialdata_attrs', 'umap'\n",
       "    obsm: 'X_pca', 'X_umap', 'spatial'\n",
       "    varm: 'PCs'\n",
       "    layers: 'raw_counts'\n",
       "    obsp: 'connectivities', 'distances': AnnData (11228, 99)\n",
       "with coordinate systems:\n",
       "▸ 'global', with elements:\n",
       "        clahe (Images), raw_image (Images), tiling_correction (Images), tophat_filtered (Images), transcript_density (Images), segmentation_mask (Labels), transcripts (Points), expanded_cells20 (Shapes), filtered_expanded_cells20_low_counts (Shapes), filtered_expanded_cells20_segmentation (Shapes), filtered_expanded_cells20_size (Shapes), filtered_segmentation_mask_boundaries_low_counts (Shapes), filtered_segmentation_mask_boundaries_segmentation (Shapes), filtered_segmentation_mask_boundaries_size (Shapes), segmentation_mask_boundaries (Shapes)"
      ]
     },
     "execution_count": 2,
     "metadata": {},
     "output_type": "execute_result"
    }
   ],
   "source": [
    "OUTPUT_DIR = '/home/wout/Documents/Thesis_lokaal/Mouse_Liver_Resolve_Data'\n",
    "sdata = read_zarr( os.path.join(  OUTPUT_DIR, 'sdata.zarr'  ) )\n",
    "anndata = sc.read('/home/wout/Documents/Thesis_lokaal/Mouse_Liver_Resolve_Data/anndataNucA11') # reset original anndata\n",
    "# delete anndata\n",
    "del sdata.table\n",
    "# create anndata\n",
    "sdata.table = anndata\n",
    "sdata"
   ]
  }
 ],
 "metadata": {
  "kernelspec": {
   "display_name": "napari-sparrow",
   "language": "python",
   "name": "python3"
  },
  "language_info": {
   "codemirror_mode": {
    "name": "ipython",
    "version": 3
   },
   "file_extension": ".py",
   "mimetype": "text/x-python",
   "name": "python",
   "nbconvert_exporter": "python",
   "pygments_lexer": "ipython3",
   "version": "3.10.8"
  },
  "orig_nbformat": 4
 },
 "nbformat": 4,
 "nbformat_minor": 2
}
