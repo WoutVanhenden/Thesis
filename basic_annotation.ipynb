{
 "cells": [
  {
   "cell_type": "code",
   "execution_count": 23,
   "metadata": {},
   "outputs": [],
   "source": [
    "import pandas as pd\n",
    "import scanpy as sc\n",
    "import numpy as np\n",
    "import seaborn as sns"
   ]
  },
  {
   "cell_type": "code",
   "execution_count": 2,
   "metadata": {},
   "outputs": [
    {
     "name": "stdout",
     "output_type": "stream",
     "text": [
      "Index(['portal_vein_EC45', 'LSEC45', 'LSEC Portal', 'LSEC Central',\n",
      "       'central_vein_EC45', 'stellateAll', 'stellate PeriPortal',\n",
      "       'stellate PeriCentral', 'FibroblastAll', 'fibroblastPortal',\n",
      "       'FibroblastsCentral', 'VSMC', 'capsular_fibroblasts45',\n",
      "       'Mesothelial cells', 'Hepatocytes', 'HepatocytesPortal',\n",
      "       'HepatocytesCentral', 'Cholangiocytes', 'cDC2s', 'Mig. cDCs',\n",
      "       'Neutrophils', 'Basophils', 'NK cells', 'ILC1s', 'T cells', 'pDCs',\n",
      "       'B cells', 'cDC1s', 'Kupffer cells', 'Capsule and Central Vein Mac',\n",
      "       'Portal LAM macrophages', 'Monocytes', 'LECs'],\n",
      "      dtype='object')\n"
     ]
    }
   ],
   "source": [
    "# Marker genes:\n",
    "# not a basic cell type --> 'other'\n",
    "path_mg = \"/home/wout/Documents/Thesis_lokaal/Mouse_Liver_Resolve_Data/markerGeneListMartinNoLow.csv\"\n",
    "marker_genes = pd.read_csv(path_mg, sep=',', index_col=0)\n",
    "# print column names\n",
    "print(marker_genes.columns)"
   ]
  },
  {
   "cell_type": "code",
   "execution_count": 3,
   "metadata": {},
   "outputs": [],
   "source": [
    "# make a new dataframe\n",
    "marker_genes_basic = pd.DataFrame()\n",
    "marker_genes_basic['Hepa'] = marker_genes['Hepatocytes'] + marker_genes['HepatocytesPortal'] + marker_genes['HepatocytesCentral']\n",
    "marker_genes_basic['LSEC'] = marker_genes['LSEC45'] + marker_genes['LSEC Portal'] + marker_genes['LSEC Central']\n",
    "marker_genes_basic['Endo vein'] = marker_genes['portal_vein_EC45'] + marker_genes['central_vein_EC45'] \n",
    "marker_genes_basic['Chol'] = marker_genes['Cholangiocytes']  \n",
    "marker_genes_basic['Kupf'] = marker_genes['Kupffer cells']\n",
    "marker_genes_basic['Stel'] = marker_genes['stellateAll'] + marker_genes['stellate PeriPortal'] + marker_genes['stellate PeriCentral'] \n",
    "marker_genes_basic['Fibr'] = marker_genes['FibroblastAll'] + marker_genes['fibroblastPortal'] + marker_genes['FibroblastsCentral'] + marker_genes['capsular_fibroblasts45']\n",
    "marker_genes_basic['B cell'] = marker_genes['B cells']\n",
    "marker_genes_basic['Meso'] = marker_genes['Mesothelial cells']  \n",
    "marker_genes_basic\n",
    "# if value in marker_genes_basic is > 1, set to 1\n",
    "marker_genes_basic[marker_genes_basic > 1] = 1\n",
    "# save to csv\n",
    "marker_genes_basic.to_csv(\"/home/wout/Documents/Thesis_lokaal/Mouse_Liver_Resolve_Data/markerGeneListBasic.csv\")"
   ]
  },
  {
   "cell_type": "code",
   "execution_count": 4,
   "metadata": {},
   "outputs": [
    {
     "data": {
      "text/html": [
       "<div>\n",
       "<style scoped>\n",
       "    .dataframe tbody tr th:only-of-type {\n",
       "        vertical-align: middle;\n",
       "    }\n",
       "\n",
       "    .dataframe tbody tr th {\n",
       "        vertical-align: top;\n",
       "    }\n",
       "\n",
       "    .dataframe thead th {\n",
       "        text-align: right;\n",
       "    }\n",
       "</style>\n",
       "<table border=\"1\" class=\"dataframe\">\n",
       "  <thead>\n",
       "    <tr style=\"text-align: right;\">\n",
       "      <th></th>\n",
       "      <th>Hepa</th>\n",
       "      <th>LSEC</th>\n",
       "      <th>Endo vein</th>\n",
       "      <th>Chol</th>\n",
       "      <th>Kupf</th>\n",
       "      <th>Stel</th>\n",
       "      <th>Fibr</th>\n",
       "      <th>B cell</th>\n",
       "      <th>Meso</th>\n",
       "    </tr>\n",
       "    <tr>\n",
       "      <th>Column1</th>\n",
       "      <th></th>\n",
       "      <th></th>\n",
       "      <th></th>\n",
       "      <th></th>\n",
       "      <th></th>\n",
       "      <th></th>\n",
       "      <th></th>\n",
       "      <th></th>\n",
       "      <th></th>\n",
       "    </tr>\n",
       "  </thead>\n",
       "  <tbody>\n",
       "    <tr>\n",
       "      <th>Acta2</th>\n",
       "      <td>0</td>\n",
       "      <td>0</td>\n",
       "      <td>0</td>\n",
       "      <td>0</td>\n",
       "      <td>0</td>\n",
       "      <td>0</td>\n",
       "      <td>1</td>\n",
       "      <td>0</td>\n",
       "      <td>0</td>\n",
       "    </tr>\n",
       "    <tr>\n",
       "      <th>Adamtsl2</th>\n",
       "      <td>0</td>\n",
       "      <td>0</td>\n",
       "      <td>0</td>\n",
       "      <td>0</td>\n",
       "      <td>0</td>\n",
       "      <td>1</td>\n",
       "      <td>1</td>\n",
       "      <td>0</td>\n",
       "      <td>0</td>\n",
       "    </tr>\n",
       "    <tr>\n",
       "      <th>Adgre1</th>\n",
       "      <td>0</td>\n",
       "      <td>0</td>\n",
       "      <td>0</td>\n",
       "      <td>0</td>\n",
       "      <td>1</td>\n",
       "      <td>0</td>\n",
       "      <td>0</td>\n",
       "      <td>0</td>\n",
       "      <td>0</td>\n",
       "    </tr>\n",
       "    <tr>\n",
       "      <th>Adgrg6</th>\n",
       "      <td>0</td>\n",
       "      <td>1</td>\n",
       "      <td>1</td>\n",
       "      <td>0</td>\n",
       "      <td>0</td>\n",
       "      <td>0</td>\n",
       "      <td>0</td>\n",
       "      <td>0</td>\n",
       "      <td>0</td>\n",
       "    </tr>\n",
       "    <tr>\n",
       "      <th>Atp6v0d2</th>\n",
       "      <td>0</td>\n",
       "      <td>0</td>\n",
       "      <td>0</td>\n",
       "      <td>0</td>\n",
       "      <td>0</td>\n",
       "      <td>0</td>\n",
       "      <td>0</td>\n",
       "      <td>0</td>\n",
       "      <td>0</td>\n",
       "    </tr>\n",
       "    <tr>\n",
       "      <th>...</th>\n",
       "      <td>...</td>\n",
       "      <td>...</td>\n",
       "      <td>...</td>\n",
       "      <td>...</td>\n",
       "      <td>...</td>\n",
       "      <td>...</td>\n",
       "      <td>...</td>\n",
       "      <td>...</td>\n",
       "      <td>...</td>\n",
       "    </tr>\n",
       "    <tr>\n",
       "      <th>Vwf</th>\n",
       "      <td>0</td>\n",
       "      <td>0</td>\n",
       "      <td>1</td>\n",
       "      <td>0</td>\n",
       "      <td>0</td>\n",
       "      <td>0</td>\n",
       "      <td>0</td>\n",
       "      <td>0</td>\n",
       "      <td>0</td>\n",
       "    </tr>\n",
       "    <tr>\n",
       "      <th>Wnt2</th>\n",
       "      <td>0</td>\n",
       "      <td>1</td>\n",
       "      <td>1</td>\n",
       "      <td>0</td>\n",
       "      <td>0</td>\n",
       "      <td>0</td>\n",
       "      <td>0</td>\n",
       "      <td>0</td>\n",
       "      <td>0</td>\n",
       "    </tr>\n",
       "    <tr>\n",
       "      <th>Wnt9b</th>\n",
       "      <td>0</td>\n",
       "      <td>1</td>\n",
       "      <td>1</td>\n",
       "      <td>0</td>\n",
       "      <td>0</td>\n",
       "      <td>0</td>\n",
       "      <td>0</td>\n",
       "      <td>0</td>\n",
       "      <td>0</td>\n",
       "    </tr>\n",
       "    <tr>\n",
       "      <th>Wt1</th>\n",
       "      <td>0</td>\n",
       "      <td>0</td>\n",
       "      <td>0</td>\n",
       "      <td>0</td>\n",
       "      <td>0</td>\n",
       "      <td>0</td>\n",
       "      <td>1</td>\n",
       "      <td>0</td>\n",
       "      <td>1</td>\n",
       "    </tr>\n",
       "    <tr>\n",
       "      <th>Xcr1</th>\n",
       "      <td>0</td>\n",
       "      <td>0</td>\n",
       "      <td>0</td>\n",
       "      <td>0</td>\n",
       "      <td>0</td>\n",
       "      <td>0</td>\n",
       "      <td>0</td>\n",
       "      <td>0</td>\n",
       "      <td>0</td>\n",
       "    </tr>\n",
       "  </tbody>\n",
       "</table>\n",
       "<p>97 rows × 9 columns</p>\n",
       "</div>"
      ],
      "text/plain": [
       "          Hepa  LSEC  Endo vein  Chol  Kupf  Stel  Fibr  B cell  Meso\n",
       "Column1                                                              \n",
       "Acta2        0     0          0     0     0     0     1       0     0\n",
       "Adamtsl2     0     0          0     0     0     1     1       0     0\n",
       "Adgre1       0     0          0     0     1     0     0       0     0\n",
       "Adgrg6       0     1          1     0     0     0     0       0     0\n",
       "Atp6v0d2     0     0          0     0     0     0     0       0     0\n",
       "...        ...   ...        ...   ...   ...   ...   ...     ...   ...\n",
       "Vwf          0     0          1     0     0     0     0       0     0\n",
       "Wnt2         0     1          1     0     0     0     0       0     0\n",
       "Wnt9b        0     1          1     0     0     0     0       0     0\n",
       "Wt1          0     0          0     0     0     0     1       0     1\n",
       "Xcr1         0     0          0     0     0     0     0       0     0\n",
       "\n",
       "[97 rows x 9 columns]"
      ]
     },
     "execution_count": 4,
     "metadata": {},
     "output_type": "execute_result"
    }
   ],
   "source": [
    "marker_genes_basic"
   ]
  },
  {
   "cell_type": "code",
   "execution_count": 34,
   "metadata": {},
   "outputs": [
    {
     "data": {
      "text/plain": [
       "Hepa         10\n",
       "LSEC         11\n",
       "Endo vein     9\n",
       "Chol          7\n",
       "Kupf         16\n",
       "Stel         16\n",
       "Fibr         21\n",
       "B cell        4\n",
       "Meso          5\n",
       "dtype: int64"
      ]
     },
     "execution_count": 34,
     "metadata": {},
     "output_type": "execute_result"
    }
   ],
   "source": [
    "marker_genes_basic.sum(axis=0)"
   ]
  },
  {
   "cell_type": "code",
   "execution_count": 19,
   "metadata": {},
   "outputs": [],
   "source": [
    "def Jaccard(list1,list2):\n",
    "    list3 = list1 & list2\n",
    "    list4 = list1 | list2\n",
    "    Jaccard = np.sum(list3)/np.sum(list4)\n",
    "    return np.round(Jaccard,3)"
   ]
  },
  {
   "cell_type": "code",
   "execution_count": 31,
   "metadata": {},
   "outputs": [],
   "source": [
    "Jaccard_sim = pd.DataFrame(index=marker_genes_basic.columns, columns=marker_genes_basic.columns)\n",
    "for i in marker_genes_basic.columns:\n",
    "    for j in marker_genes_basic.columns:\n",
    "        Jaccard_sim.loc[i,j] = Jaccard(marker_genes_basic[i],marker_genes_basic[j])\n",
    "Jaccard_sim\n",
    "# covert each entry to float\n",
    "Jaccard_sim = Jaccard_sim.astype(float)"
   ]
  },
  {
   "cell_type": "code",
   "execution_count": 33,
   "metadata": {},
   "outputs": [
    {
     "data": {
      "text/plain": [
       "<AxesSubplot: >"
      ]
     },
     "execution_count": 33,
     "metadata": {},
     "output_type": "execute_result"
    },
    {
     "data": {
      "image/png": "[encoded data removed]",
      "text/plain": [
       "<Figure size 640x480 with 2 Axes>"
      ]
     },
     "metadata": {},
     "output_type": "display_data"
    }
   ],
   "source": [
    "# heatmap of Jaccard similarity\n",
    "sns.heatmap(Jaccard_sim,annot=True)"
   ]
  },
  {
   "cell_type": "code",
   "execution_count": 5,
   "metadata": {},
   "outputs": [],
   "source": [
    "ad_sc = sc.read('/home/wout/Documents/Thesis_lokaal/Data_to_create_liver_atlas/adataAtlasRESOLVE.h5ad')\n",
    "ad_sc=ad_sc[ad_sc.obs.typeSample=='nucSeq']\n"
   ]
  },
  {
   "cell_type": "code",
   "execution_count": 6,
   "metadata": {},
   "outputs": [
    {
     "data": {
      "text/plain": [
       "View of AnnData object with n_obs × n_vars = 18666 × 31053\n",
       "    obs: 'annot', 'typeSample', 'cluster_orig', 'annotation_CD45Neg', 'annotation_Fibro', 'annotation'\n",
       "    uns: 'annot_colors'\n",
       "    obsm: 'X_umap'"
      ]
     },
     "execution_count": 6,
     "metadata": {},
     "output_type": "execute_result"
    }
   ],
   "source": [
    "ad_sc"
   ]
  },
  {
   "cell_type": "code",
   "execution_count": 7,
   "metadata": {},
   "outputs": [
    {
     "data": {
      "text/plain": [
       "array(['B cells', 'Cholangiocytes', 'Endothelial cells', 'Hepatocytes',\n",
       "       'HsPCs', 'Kupffer cells', 'LECs', 'LSECs', 'Mesothelial cells',\n",
       "       'Other_ImmuneCells', 'VSMC', 'central_vein_EC45', 'fibroblast',\n",
       "       'portal_vein_EC45', 'stellate'], dtype=object)"
      ]
     },
     "execution_count": 7,
     "metadata": {},
     "output_type": "execute_result"
    }
   ],
   "source": [
    "np.unique(ad_sc.obs['annotation'])"
   ]
  },
  {
   "cell_type": "code",
   "execution_count": 8,
   "metadata": {},
   "outputs": [
    {
     "name": "stderr",
     "output_type": "stream",
     "text": [
      "/tmp/ipykernel_50686/3583617197.py:2: ImplicitModificationWarning: Trying to modify attribute `.obs` of view, initializing view as actual.\n",
      "  ad_sc.obs['annotation'] = ad_sc.obs['annotation'].replace(['stellate'], 'Stel')\n"
     ]
    },
    {
     "data": {
      "text/plain": [
       "array(['B cell', 'Chol', 'Endo vein', 'Fibr', 'Hepa', 'HsPCs', 'Kupf',\n",
       "       'LECs', 'LSEC', 'Meso', 'Other_ImmuneCells', 'Stel', 'VSMC'],\n",
       "      dtype=object)"
      ]
     },
     "execution_count": 8,
     "metadata": {},
     "output_type": "execute_result"
    }
   ],
   "source": [
    "# substitute values in ad_sc.obs['annot'] \n",
    "ad_sc.obs['annotation'] = ad_sc.obs['annotation'].replace(['stellate'], 'Stel')\n",
    "ad_sc.obs['annotation'] = ad_sc.obs['annotation'].replace(['central_vein_EC45','portal_vein_EC45','Endothelial cells'], 'Endo vein')\n",
    "ad_sc.obs['annotation'] = ad_sc.obs['annotation'].replace(['fibroblast'], 'Fibr')\n",
    "ad_sc.obs['annotation'] = ad_sc.obs['annotation'].replace(['Mesothelial cells'], 'Meso')\n",
    "ad_sc.obs['annotation'] = ad_sc.obs['annotation'].replace(['Cholangiocytes'], 'Chol')\n",
    "ad_sc.obs['annotation'] = ad_sc.obs['annotation'].replace(['Hepatocytes'], 'Hepa')\n",
    "ad_sc.obs['annotation'] = ad_sc.obs['annotation'].replace(['Kupffer cells'], 'Kupf')\n",
    "ad_sc.obs['annotation'] = ad_sc.obs['annotation'].replace(['B cells'], 'B cell')\n",
    "ad_sc.obs['annotation'] = ad_sc.obs['annotation'].replace(['LSECs'], 'LSEC')\n",
    "\n",
    "np.unique(ad_sc.obs['annotation'])"
   ]
  },
  {
   "cell_type": "code",
   "execution_count": 9,
   "metadata": {},
   "outputs": [
    {
     "data": {
      "text/plain": [
       "Hepa                 0.579985\n",
       "Stel                 0.137683\n",
       "LSEC                 0.092414\n",
       "Kupf                 0.032037\n",
       "Endo vein            0.031662\n",
       "Fibr                 0.030430\n",
       "Meso                 0.027965\n",
       "Chol                 0.026733\n",
       "HsPCs                0.022126\n",
       "Other_ImmuneCells    0.008250\n",
       "B cell               0.006215\n",
       "VSMC                 0.003268\n",
       "LECs                 0.001232\n",
       "Name: annotation, dtype: float64"
      ]
     },
     "execution_count": 9,
     "metadata": {},
     "output_type": "execute_result"
    }
   ],
   "source": [
    "# calculate proportions of each value in column 'annotation' in ad_sc\n",
    "ad_sc.obs['annotation'].value_counts(normalize=True)"
   ]
  },
  {
   "cell_type": "code",
   "execution_count": 10,
   "metadata": {},
   "outputs": [
    {
     "data": {
      "text/html": [
       "<div>\n",
       "<style scoped>\n",
       "    .dataframe tbody tr th:only-of-type {\n",
       "        vertical-align: middle;\n",
       "    }\n",
       "\n",
       "    .dataframe tbody tr th {\n",
       "        vertical-align: top;\n",
       "    }\n",
       "\n",
       "    .dataframe thead th {\n",
       "        text-align: right;\n",
       "    }\n",
       "</style>\n",
       "<table border=\"1\" class=\"dataframe\">\n",
       "  <thead>\n",
       "    <tr style=\"text-align: right;\">\n",
       "      <th></th>\n",
       "      <th>annotation</th>\n",
       "    </tr>\n",
       "  </thead>\n",
       "  <tbody>\n",
       "    <tr>\n",
       "      <th>B cell</th>\n",
       "      <td>0.006215</td>\n",
       "    </tr>\n",
       "    <tr>\n",
       "      <th>Chol</th>\n",
       "      <td>0.026733</td>\n",
       "    </tr>\n",
       "    <tr>\n",
       "      <th>Hepa</th>\n",
       "      <td>0.579985</td>\n",
       "    </tr>\n",
       "    <tr>\n",
       "      <th>Kupf</th>\n",
       "      <td>0.032037</td>\n",
       "    </tr>\n",
       "    <tr>\n",
       "      <th>LSEC</th>\n",
       "      <td>0.092414</td>\n",
       "    </tr>\n",
       "    <tr>\n",
       "      <th>Meso</th>\n",
       "      <td>0.027965</td>\n",
       "    </tr>\n",
       "    <tr>\n",
       "      <th>Endo vein</th>\n",
       "      <td>0.031662</td>\n",
       "    </tr>\n",
       "    <tr>\n",
       "      <th>Fibr</th>\n",
       "      <td>0.030430</td>\n",
       "    </tr>\n",
       "    <tr>\n",
       "      <th>Stel</th>\n",
       "      <td>0.137683</td>\n",
       "    </tr>\n",
       "  </tbody>\n",
       "</table>\n",
       "</div>"
      ],
      "text/plain": [
       "           annotation\n",
       "B cell       0.006215\n",
       "Chol         0.026733\n",
       "Hepa         0.579985\n",
       "Kupf         0.032037\n",
       "LSEC         0.092414\n",
       "Meso         0.027965\n",
       "Endo vein    0.031662\n",
       "Fibr         0.030430\n",
       "Stel         0.137683"
      ]
     },
     "execution_count": 10,
     "metadata": {},
     "output_type": "execute_result"
    }
   ],
   "source": [
    "# to dataframe\n",
    "df_atlas = pd.DataFrame(ad_sc.obs['annotation'].value_counts(normalize=True))\n",
    "# only select the rows with index in list\n",
    "df_atlas = df_atlas.loc[marker_genes_basic.columns]\n",
    "df_atlas.sort_index(inplace=True)\n",
    "df_atlas"
   ]
  },
  {
   "cell_type": "code",
   "execution_count": 11,
   "metadata": {},
   "outputs": [],
   "source": [
    "# change name of column \n",
    "df_atlas.columns = ['atlas']\n",
    "# write to csv\n",
    "df_atlas.to_csv(\"/home/wout/Documents/Thesis_lokaal/Mouse_Liver_Resolve_Data/basic_annotation_percentage_atlas.csv\")"
   ]
  }
 ],
 "metadata": {
  "kernelspec": {
   "display_name": "napari-sparrow",
   "language": "python",
   "name": "python3"
  },
  "language_info": {
   "codemirror_mode": {
    "name": "ipython",
    "version": 3
   },
   "file_extension": ".py",
   "mimetype": "text/x-python",
   "name": "python",
   "nbconvert_exporter": "python",
   "pygments_lexer": "ipython3",
   "version": "3.10.8"
  },
  "orig_nbformat": 4
 },
 "nbformat": 4,
 "nbformat_minor": 2
}
