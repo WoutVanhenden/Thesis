{
 "cells": [
  {
   "cell_type": "code",
   "execution_count": 1,
   "metadata": {},
   "outputs": [],
   "source": [
    "import pandas as pd\n",
    "import scanpy as sc\n",
    "import numpy as np"
   ]
  },
  {
   "cell_type": "code",
   "execution_count": 2,
   "metadata": {},
   "outputs": [
    {
     "name": "stdout",
     "output_type": "stream",
     "text": [
      "Index(['portal_vein_EC45', 'LSEC45', 'LSEC Portal', 'LSEC Central',\n",
      "       'central_vein_EC45', 'stellateAll', 'stellate PeriPortal',\n",
      "       'stellate PeriCentral', 'FibroblastAll', 'fibroblastPortal',\n",
      "       'FibroblastsCentral', 'VSMC', 'capsular_fibroblasts45',\n",
      "       'Mesothelial cells', 'Hepatocytes', 'HepatocytesPortal',\n",
      "       'HepatocytesCentral', 'Cholangiocytes', 'cDC2s', 'Mig. cDCs',\n",
      "       'Neutrophils', 'Basophils', 'NK cells', 'ILC1s', 'T cells', 'pDCs',\n",
      "       'B cells', 'cDC1s', 'Kupffer cells', 'Capsule and Central Vein Mac',\n",
      "       'Portal LAM macrophages', 'Monocytes', 'LECs'],\n",
      "      dtype='object')\n"
     ]
    }
   ],
   "source": [
    "# Marker genes:\n",
    "# not a basic cell type --> 'other'\n",
    "path_mg = \"/home/wout/Documents/Thesis_lokaal/Mouse_Liver_Resolve_Data/markerGeneListMartinNoLow.csv\"\n",
    "marker_genes = pd.read_csv(path_mg, sep=',', index_col=0)\n",
    "# print column names\n",
    "print(marker_genes.columns)"
   ]
  },
  {
   "cell_type": "code",
   "execution_count": 3,
   "metadata": {},
   "outputs": [
    {
     "name": "stdout",
     "output_type": "stream",
     "text": [
      "Index(['Hepa', 'LSEC', 'Endo', 'Chol', 'Kupf', 'Stel', 'Fibr', 'B cell',\n",
      "       'Oth'],\n",
      "      dtype='object')\n"
     ]
    }
   ],
   "source": [
    "# make a new dataframe\n",
    "marker_genes_basic = pd.DataFrame()\n",
    "marker_genes_basic['Hepa'] = marker_genes['Hepatocytes'] + marker_genes['HepatocytesPortal'] + marker_genes['HepatocytesCentral']\n",
    "marker_genes_basic['LSEC'] = marker_genes['LSEC45'] + marker_genes['LSEC Portal'] + marker_genes['LSEC Central']\n",
    "marker_genes_basic['Endo'] = marker_genes['portal_vein_EC45'] + marker_genes['central_vein_EC45'] + marker_genes['LECs']\n",
    "marker_genes_basic['Chol'] = marker_genes['Cholangiocytes']  \n",
    "marker_genes_basic['Kupf'] = marker_genes['Kupffer cells']\n",
    "marker_genes_basic['Stel'] = marker_genes['stellateAll'] + marker_genes['stellate PeriPortal'] + marker_genes['stellate PeriCentral'] \n",
    "marker_genes_basic['Fibr'] = marker_genes['FibroblastAll'] + marker_genes['fibroblastPortal'] + marker_genes['FibroblastsCentral'] + marker_genes['capsular_fibroblasts45']\n",
    "marker_genes_basic['B cell'] = marker_genes['B cells']\n",
    "marker_genes_basic['Oth'] = marker_genes['VSMC'] + marker_genes['Mesothelial cells'] + marker_genes['cDC1s'] + marker_genes['cDC2s'] + marker_genes['Mig. cDCs'] + marker_genes['Neutrophils'] + marker_genes['Basophils'] + marker_genes['NK cells'] + marker_genes['ILC1s'] + marker_genes['T cells'] + marker_genes['pDCs'] + marker_genes['Capsule and Central Vein Mac'] + marker_genes['Portal LAM macrophages'] + marker_genes['Monocytes']  \n",
    "marker_genes_basic\n",
    "# if value in marker_genes_basic is > 1, set to 1\n",
    "marker_genes_basic[marker_genes_basic > 1] = 1\n",
    "print(marker_genes_basic.columns)\n",
    "# save to csv\n",
    "marker_genes_basic.to_csv(\"/home/wout/Documents/Thesis_lokaal/Mouse_Liver_Resolve_Data/markerGeneListBasic.csv\")"
   ]
  },
  {
   "cell_type": "code",
   "execution_count": 4,
   "metadata": {},
   "outputs": [],
   "source": [
    "ad_sc = sc.read('/home/wout/Documents/Thesis_lokaal/Data_to_create_liver_atlas/adataAtlasRESOLVE.h5ad')\n",
    "ad_sc=ad_sc[ad_sc.obs.typeSample=='nucSeq']\n"
   ]
  },
  {
   "cell_type": "code",
   "execution_count": 5,
   "metadata": {},
   "outputs": [
    {
     "data": {
      "text/plain": [
       "View of AnnData object with n_obs × n_vars = 18666 × 31053\n",
       "    obs: 'annot', 'typeSample', 'cluster_orig', 'annotation_CD45Neg', 'annotation_Fibro', 'annotation'\n",
       "    uns: 'annot_colors'\n",
       "    obsm: 'X_umap'"
      ]
     },
     "execution_count": 5,
     "metadata": {},
     "output_type": "execute_result"
    }
   ],
   "source": [
    "ad_sc"
   ]
  },
  {
   "cell_type": "code",
   "execution_count": 6,
   "metadata": {},
   "outputs": [
    {
     "data": {
      "text/plain": [
       "array(['B cells', 'Cholangiocytes', 'Endothelial cells', 'Hepatocytes',\n",
       "       'HsPCs', 'Kupffer cells', 'LECs', 'LSECs', 'Mesothelial cells',\n",
       "       'Other_ImmuneCells', 'VSMC', 'central_vein_EC45', 'fibroblast',\n",
       "       'portal_vein_EC45', 'stellate'], dtype=object)"
      ]
     },
     "execution_count": 6,
     "metadata": {},
     "output_type": "execute_result"
    }
   ],
   "source": [
    "np.unique(ad_sc.obs['annotation'])"
   ]
  },
  {
   "cell_type": "code",
   "execution_count": 7,
   "metadata": {},
   "outputs": [
    {
     "name": "stderr",
     "output_type": "stream",
     "text": [
      "/tmp/ipykernel_5374/3532432713.py:2: ImplicitModificationWarning: Trying to modify attribute `.obs` of view, initializing view as actual.\n",
      "  ad_sc.obs['annotation'] = ad_sc.obs['annotation'].replace(['stellate'], 'Stel')\n"
     ]
    },
    {
     "data": {
      "text/plain": [
       "array(['B cell', 'Chol', 'Endo', 'Fibr', 'Hepa', 'Kupf', 'LSEC', 'Oth',\n",
       "       'Stel'], dtype=object)"
      ]
     },
     "execution_count": 7,
     "metadata": {},
     "output_type": "execute_result"
    }
   ],
   "source": [
    "# substitute values in ad_sc.obs['annot'] \n",
    "ad_sc.obs['annotation'] = ad_sc.obs['annotation'].replace(['stellate'], 'Stel')\n",
    "ad_sc.obs['annotation'] = ad_sc.obs['annotation'].replace(['LECs','central_vein_EC45','portal_vein_EC45','Endothelial cells'], 'Endo')\n",
    "ad_sc.obs['annotation'] = ad_sc.obs['annotation'].replace(['fibroblast'], 'Fibr')\n",
    "ad_sc.obs['annotation'] = ad_sc.obs['annotation'].replace(['HsPCs','Mesothelial cells','Other_ImmuneCells','VSMC'], 'Oth')\n",
    "ad_sc.obs['annotation'] = ad_sc.obs['annotation'].replace(['Cholangiocytes'], 'Chol')\n",
    "ad_sc.obs['annotation'] = ad_sc.obs['annotation'].replace(['Hepatocytes'], 'Hepa')\n",
    "ad_sc.obs['annotation'] = ad_sc.obs['annotation'].replace(['Kupffer cells'], 'Kupf')\n",
    "ad_sc.obs['annotation'] = ad_sc.obs['annotation'].replace(['B cells'], 'B cell')\n",
    "ad_sc.obs['annotation'] = ad_sc.obs['annotation'].replace(['LSECs'], 'LSEC')\n",
    "\n",
    "np.unique(ad_sc.obs['annotation'])"
   ]
  },
  {
   "cell_type": "code",
   "execution_count": 8,
   "metadata": {},
   "outputs": [
    {
     "data": {
      "text/plain": [
       "Hepa      0.579985\n",
       "Stel      0.137683\n",
       "LSEC      0.092414\n",
       "Oth       0.061609\n",
       "Endo      0.032894\n",
       "Kupf      0.032037\n",
       "Fibr      0.030430\n",
       "Chol      0.026733\n",
       "B cell    0.006215\n",
       "Name: annotation, dtype: float64"
      ]
     },
     "execution_count": 8,
     "metadata": {},
     "output_type": "execute_result"
    }
   ],
   "source": [
    "# calculate proportions of each value in column 'annotation' in ad_sc\n",
    "ad_sc.obs['annotation'].value_counts(normalize=True)"
   ]
  },
  {
   "cell_type": "code",
   "execution_count": 9,
   "metadata": {},
   "outputs": [],
   "source": [
    "# to dataframe\n",
    "df_atlas = pd.DataFrame(ad_sc.obs['annotation'].value_counts(normalize=True))\n",
    "df_atlas.sort_index(inplace=True)\n"
   ]
  },
  {
   "cell_type": "code",
   "execution_count": 10,
   "metadata": {},
   "outputs": [],
   "source": [
    "# change name of column \n",
    "df_atlas.columns = ['atlas']\n",
    "# write to csv\n",
    "df_atlas.to_csv(\"/home/wout/Documents/Thesis_lokaal/Mouse_Liver_Resolve_Data/basic_annotation_percentage_atlas.csv\")"
   ]
  }
 ],
 "metadata": {
  "kernelspec": {
   "display_name": "napari-sparrow",
   "language": "python",
   "name": "python3"
  },
  "language_info": {
   "codemirror_mode": {
    "name": "ipython",
    "version": 3
   },
   "file_extension": ".py",
   "mimetype": "text/x-python",
   "name": "python",
   "nbconvert_exporter": "python",
   "pygments_lexer": "ipython3",
   "version": "3.10.8"
  },
  "orig_nbformat": 4
 },
 "nbformat": 4,
 "nbformat_minor": 2
}
