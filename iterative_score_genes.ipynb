{
 "cells": [
  {
   "cell_type": "code",
   "execution_count": null,
   "metadata": {},
   "outputs": [],
   "source": [
    "%load_ext autoreload\n",
    "%autoreload 2\n",
    "import warnings\n",
    "import numpy as np\n",
    "import time\n",
    "import os\n",
    "from dotenv import load_dotenv\n",
    "os.environ[\"USE_PYGEOS\"] = \"0\"\n",
    "import napari_sparrow as nas\n",
    "from spatialdata import read_zarr\n",
    "import os\n",
    "import pandas as pd\n",
    "import numpy as np\n",
    "import matplotlib.pyplot as plt\n",
    "from random import sample \n",
    "import scanpy as sc\n",
    "import seaborn as sns\n",
    "import anndata as ad\n",
    "%run own_and_modified_functions.ipynb\n",
    "warnings.simplefilter(action='ignore')"
   ]
  },
  {
   "cell_type": "code",
   "execution_count": null,
   "metadata": {},
   "outputs": [],
   "source": [
    "OUTPUT_DIR = '/home/wout/Documents/Thesis_lokaal/Mouse_Liver_Resolve_Data/A1-1'\n",
    "sdata = read_zarr( os.path.join(  OUTPUT_DIR, 'sdata.zarr'  ) )\n",
    "name_anndata = \"anndataNucA11\"\n",
    "# anndata = sc.read(OUTPUT_DIR + '/' + name_anndata) # get original anndata after Sparrow\n",
    "anndata = sdata.table\n",
    "# delete anndata\n",
    "# del sdata.table\n",
    "# create anndata\n",
    "# sdata.table = anndata"
   ]
  },
  {
   "cell_type": "code",
   "execution_count": null,
   "metadata": {},
   "outputs": [],
   "source": [
    "anndata.obs.columns"
   ]
  },
  {
   "cell_type": "code",
   "execution_count": null,
   "metadata": {},
   "outputs": [],
   "source": [
    "anndata.write(OUTPUT_DIR + '/' + name_anndata + '.h5ad')"
   ]
  },
  {
   "cell_type": "code",
   "execution_count": null,
   "metadata": {},
   "outputs": [],
   "source": [
    "n_pca = np.count_nonzero(anndata.uns['pca']['variance_ratio'] > 0.01)\n",
    "make_umap(anndata,n_PCAs=n_pca,n_neighbors=15)"
   ]
  },
  {
   "cell_type": "code",
   "execution_count": null,
   "metadata": {},
   "outputs": [],
   "source": [
    "# Markers Martin"
   ]
  },
  {
   "cell_type": "code",
   "execution_count": null,
   "metadata": {},
   "outputs": [],
   "source": [
    "path_mg_Martin = \"/home/wout/Documents/Thesis_lokaal/Mouse_Liver_Resolve_Data/markerGeneListHL_othIm_endoSplit_portalLAM.csv\""
   ]
  },
  {
   "cell_type": "code",
   "execution_count": null,
   "metadata": {},
   "outputs": [],
   "source": [
    "mg_dict, scoresper_cluster = score_genes_bins(\n",
    "    anndata,\n",
    "    path_marker_genes = path_mg_Martin,\n",
    "    bins = 25,\n",
    "    suffix = '_Martin'\n",
    "    )\n",
    "visualize_classification(anndata,'annotation_score_genes_25_Martin','umap_15',path_mg_Martin,plot_dot_plot=False,plot_rank_genes_groups=False,plot_image=False)"
   ]
  },
  {
   "cell_type": "code",
   "execution_count": null,
   "metadata": {},
   "outputs": [],
   "source": [
    "own_score_genes_iterative(anndata,path_mg_Martin,nr_iterations=8,output_dir=OUTPUT_DIR,suffix='_Martin')"
   ]
  },
  {
   "cell_type": "code",
   "execution_count": null,
   "metadata": {},
   "outputs": [],
   "source": [
    "anndata.obs.columns"
   ]
  },
  {
   "cell_type": "code",
   "execution_count": null,
   "metadata": {},
   "outputs": [],
   "source": [
    "anndata.write(OUTPUT_DIR + '/' + name_anndata + '_Martin.h5ad')"
   ]
  },
  {
   "cell_type": "code",
   "execution_count": null,
   "metadata": {},
   "outputs": [],
   "source": [
    "# Markers Michiel"
   ]
  },
  {
   "cell_type": "code",
   "execution_count": null,
   "metadata": {},
   "outputs": [],
   "source": [
    "anndata = sc.read(OUTPUT_DIR + '/' + name_anndata + '_Martin.h5ad') "
   ]
  },
  {
   "cell_type": "code",
   "execution_count": null,
   "metadata": {},
   "outputs": [],
   "source": [
    "path_mg_Michiel = \"/home/wout/Documents/Thesis_lokaal/Mouse_Liver_Resolve_Data/markerGeneListMichiel_othIm_endoSplit_portalLAM.csv\""
   ]
  },
  {
   "cell_type": "code",
   "execution_count": null,
   "metadata": {},
   "outputs": [],
   "source": [
    "mg_dict, scoresper_cluster = score_genes_bins(\n",
    "    anndata,\n",
    "    path_marker_genes = path_mg_Michiel,\n",
    "    bins = 25,\n",
    "    suffix = '_Michiel')\n",
    "visualize_classification(anndata,'annotation_score_genes_25_Michiel','umap_15',path_mg_Michiel,plot_dot_plot=False,plot_rank_genes_groups=False,plot_image=False)"
   ]
  },
  {
   "cell_type": "code",
   "execution_count": null,
   "metadata": {},
   "outputs": [],
   "source": [
    "iterative_score_genes(anndata,path_mg_Michiel,nr_iterations=8,output_dir=OUTPUT_DIR,suffix='_Michiel')"
   ]
  },
  {
   "cell_type": "code",
   "execution_count": null,
   "metadata": {},
   "outputs": [],
   "source": [
    "anndata.obs.columns"
   ]
  },
  {
   "cell_type": "code",
   "execution_count": null,
   "metadata": {},
   "outputs": [],
   "source": [
    "anndata.write(OUTPUT_DIR + '/' + name_anndata + '_Michiel.h5ad')"
   ]
  },
  {
   "cell_type": "code",
   "execution_count": null,
   "metadata": {},
   "outputs": [],
   "source": [
    "# Markers Atlas"
   ]
  },
  {
   "cell_type": "code",
   "execution_count": null,
   "metadata": {},
   "outputs": [],
   "source": [
    "anndata = sc.read(OUTPUT_DIR + '/' + name_anndata + '_Michiel.h5ad')"
   ]
  },
  {
   "cell_type": "code",
   "execution_count": null,
   "metadata": {},
   "outputs": [],
   "source": [
    "path_mg_Atlas = \"\""
   ]
  },
  {
   "cell_type": "code",
   "execution_count": null,
   "metadata": {},
   "outputs": [],
   "source": [
    "mg_dict, scoresper_cluster = score_genes_bins(\n",
    "    anndata,\n",
    "    path_marker_genes = path_mg_Atlas,\n",
    "    bins = 25,\n",
    "    suffix = '_Atlas'\n",
    "    )\n",
    "visualize_classification(anndata,'annotation_score_genes_25_Atlas','umap_15',path_mg_Atlas,plot_dot_plot=False,plot_rank_genes_groups=False,plot_image=False)"
   ]
  },
  {
   "cell_type": "code",
   "execution_count": null,
   "metadata": {},
   "outputs": [],
   "source": [
    "iterative_score_genes(anndata,path_mg_Atlas,nr_iterations=8,output_dir=OUTPUT_DIR,suffix='_Atlas')"
   ]
  },
  {
   "cell_type": "code",
   "execution_count": null,
   "metadata": {},
   "outputs": [],
   "source": [
    "anndata.obs.columns"
   ]
  },
  {
   "cell_type": "code",
   "execution_count": null,
   "metadata": {},
   "outputs": [],
   "source": [
    "anndata.write(OUTPUT_DIR + '/' + name_anndata + '_Atlas.h5ad')"
   ]
  },
  {
   "cell_type": "code",
   "execution_count": null,
   "metadata": {},
   "outputs": [],
   "source": [
    "# Tangram"
   ]
  },
  {
   "cell_type": "code",
   "execution_count": null,
   "metadata": {},
   "outputs": [],
   "source": [
    "anndata = sc.read(OUTPUT_DIR + '/' + name_anndata + '_Atlas.h5ad')"
   ]
  }
 ],
 "metadata": {
  "kernelspec": {
   "display_name": "napari-sparrow",
   "language": "python",
   "name": "python3"
  },
  "language_info": {
   "codemirror_mode": {
    "name": "ipython",
    "version": 3
   },
   "file_extension": ".py",
   "mimetype": "text/x-python",
   "name": "python",
   "nbconvert_exporter": "python",
   "pygments_lexer": "ipython3",
   "version": "3.10.8"
  }
 },
 "nbformat": 4,
 "nbformat_minor": 2
}
