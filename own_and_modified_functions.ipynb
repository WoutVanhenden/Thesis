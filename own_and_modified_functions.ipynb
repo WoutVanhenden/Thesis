{
 "cells": [
  {
   "cell_type": "code",
   "execution_count": 3,
   "metadata": {},
   "outputs": [],
   "source": [
    "import pandas as pd\n",
    "import numpy as np\n",
    "import matplotlib.pyplot as plt\n",
    "import napari_sparrow as nas\n",
    "from spatialdata import read_zarr\n",
    "import os\n",
    "import scanpy as sc"
   ]
  },
  {
   "cell_type": "code",
   "execution_count": 5,
   "metadata": {},
   "outputs": [],
   "source": [
    "def visualize_classification(sdata,classification_name):\n",
    "    # Plot the UMAP\n",
    "    sc.pl.umap(sdata.table,color=[classification_name])\n",
    "    # Plot the highly differential genes for each cluster\n",
    "    sc.pl.rank_genes_groups(sdata.table, n_genes=8, sharey=False, show=False)\n",
    "    # Plot the image with the cells\n",
    "    nas.pl.plot_shapes(sdata,column=classification_name,img_layer='clahe',shapes_layer = \"segmentation_mask_boundaries\")"
   ]
  }
 ],
 "metadata": {
  "kernelspec": {
   "display_name": "napari-sparrow",
   "language": "python",
   "name": "python3"
  },
  "language_info": {
   "codemirror_mode": {
    "name": "ipython",
    "version": 3
   },
   "file_extension": ".py",
   "mimetype": "text/x-python",
   "name": "python",
   "nbconvert_exporter": "python",
   "pygments_lexer": "ipython3",
   "version": "3.10.8"
  },
  "orig_nbformat": 4
 },
 "nbformat": 4,
 "nbformat_minor": 2
}
