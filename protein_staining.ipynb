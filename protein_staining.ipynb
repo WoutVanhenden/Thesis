{
 "cells": [
  {
   "cell_type": "code",
   "execution_count": null,
   "metadata": {},
   "outputs": [],
   "source": [
    "%load_ext autoreload\n",
    "%autoreload 2\n",
    "import warnings\n",
    "import numpy as np\n",
    "import time\n",
    "import os\n",
    "from dotenv import load_dotenv\n",
    "os.environ[\"USE_PYGEOS\"] = \"0\"\n",
    "import napari_sparrow as nas\n",
    "from spatialdata import read_zarr\n",
    "import os\n",
    "import pandas as pd\n",
    "import numpy as np\n",
    "import matplotlib.pyplot as plt\n",
    "from random import sample \n",
    "import scanpy as sc\n",
    "import seaborn as sns\n",
    "import anndata as ad\n",
    "import squidpy as sq\n",
    "%run own_and_modified_functions.ipynb\n",
    "warnings.simplefilter(action='ignore')"
   ]
  },
  {
   "cell_type": "code",
   "execution_count": null,
   "metadata": {},
   "outputs": [],
   "source": [
    "from skimage.measure import regionprops_table\n",
    "def calculate_intensity(sdata):\n",
    "    props = ['label','area', 'intensity_mean']\n",
    "    table=pd.DataFrame.from_dict(regionprops_table(sdata['segmentation_mask'].to_numpy(),intensity_image=sdata['KC'].sel(c=0).to_numpy(),properties=props))\n",
    "    table=table.set_index('label')\n",
    "    table_filtered=table.loc[sdata.table.obs.index.values.astype(int)]\n",
    "    table['filtered']=~table.index.isin(sdata.table.obs.index.values.astype(int))\n",
    "    adata=pd.concat([table_filtered,sdata.table.obs],axis=0)\n",
    "    #del sdata.table\n",
    "    #sdata.table = spatialdata.models.TableModel.parse(adata)\n",
    "    return table"
   ]
  },
  {
   "cell_type": "code",
   "execution_count": null,
   "metadata": {},
   "outputs": [],
   "source": []
  }
 ],
 "metadata": {
  "language_info": {
   "name": "python"
  }
 },
 "nbformat": 4,
 "nbformat_minor": 2
}
