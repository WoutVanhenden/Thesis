{
 "cells": [
  {
   "cell_type": "code",
   "execution_count": 1,
   "metadata": {},
   "outputs": [
    {
     "name": "stderr",
     "output_type": "stream",
     "text": [
      "the value of the environment variable BASIC_DCT_BACKEND is not in [\"JAX\",\"SCIPY\"]\n"
     ]
    }
   ],
   "source": [
    "%load_ext autoreload\n",
    "%autoreload 2\n",
    "import warnings\n",
    "import numpy as np\n",
    "import time\n",
    "import os\n",
    "from dotenv import load_dotenv\n",
    "os.environ[\"USE_PYGEOS\"] = \"0\"\n",
    "import napari_sparrow as nas\n",
    "from spatialdata import read_zarr\n",
    "import os\n",
    "import pandas as pd\n",
    "import numpy as np\n",
    "import matplotlib.pyplot as plt\n",
    "import scanpy as sc\n",
    "%run own_and_modified_functions.ipynb\n",
    "warnings.simplefilter(action='ignore')"
   ]
  },
  {
   "cell_type": "code",
   "execution_count": 2,
   "metadata": {},
   "outputs": [
    {
     "data": {
      "text/plain": [
       "SpatialData object with:\n",
       "├── Images\n",
       "│     ├── 'clahe': SpatialImage[cyx] (1, 12864, 10720)\n",
       "│     ├── 'raw_image': SpatialImage[cyx] (1, 12864, 10720)\n",
       "│     ├── 'tiling_correction': SpatialImage[cyx] (1, 12864, 10720)\n",
       "│     ├── 'tophat_filtered': SpatialImage[cyx] (1, 12864, 10720)\n",
       "│     └── 'transcript_density': SpatialImage[cyx] (1, 12864, 10720)\n",
       "├── Labels\n",
       "│     └── 'segmentation_mask': SpatialImage[yx] (12864, 10720)\n",
       "├── Points\n",
       "│     └── 'transcripts': DataFrame with shape: (4754932, 3) (2D points)\n",
       "├── Shapes\n",
       "│     ├── 'expanded_cells20': GeoDataFrame shape: (11228, 1) (2D shapes)\n",
       "│     ├── 'filtered_expanded_cells20_low_counts': GeoDataFrame shape: (367, 1) (2D shapes)\n",
       "│     ├── 'filtered_expanded_cells20_segmentation': GeoDataFrame shape: (50, 1) (2D shapes)\n",
       "│     ├── 'filtered_expanded_cells20_size': GeoDataFrame shape: (280, 1) (2D shapes)\n",
       "│     ├── 'filtered_segmentation_mask_boundaries_low_counts': GeoDataFrame shape: (367, 1) (2D shapes)\n",
       "│     ├── 'filtered_segmentation_mask_boundaries_segmentation': GeoDataFrame shape: (50, 1) (2D shapes)\n",
       "│     ├── 'filtered_segmentation_mask_boundaries_size': GeoDataFrame shape: (280, 1) (2D shapes)\n",
       "│     └── 'segmentation_mask_boundaries': GeoDataFrame shape: (11228, 1) (2D shapes)\n",
       "└── Table\n",
       "      └── AnnData object with n_obs × n_vars = 11228 × 99\n",
       "    obs: 'region', 'instance', 'n_genes_by_counts', 'log1p_n_genes_by_counts', 'total_counts', 'log1p_total_counts', 'pct_counts_in_top_2_genes', 'pct_counts_in_top_5_genes', 'n_counts', 'shapeSize'\n",
       "    var: 'n_cells_by_counts', 'mean_counts', 'log1p_mean_counts', 'pct_dropout_by_counts', 'total_counts', 'log1p_total_counts', 'n_cells', 'mean', 'std'\n",
       "    uns: 'log1p', 'pca', 'spatialdata_attrs'\n",
       "    obsm: 'X_pca', 'spatial'\n",
       "    varm: 'PCs'\n",
       "    layers: 'raw_counts': AnnData (11228, 99)\n",
       "with coordinate systems:\n",
       "▸ 'global', with elements:\n",
       "        clahe (Images), raw_image (Images), tiling_correction (Images), tophat_filtered (Images), transcript_density (Images), segmentation_mask (Labels), transcripts (Points), expanded_cells20 (Shapes), filtered_expanded_cells20_low_counts (Shapes), filtered_expanded_cells20_segmentation (Shapes), filtered_expanded_cells20_size (Shapes), filtered_segmentation_mask_boundaries_low_counts (Shapes), filtered_segmentation_mask_boundaries_segmentation (Shapes), filtered_segmentation_mask_boundaries_size (Shapes), segmentation_mask_boundaries (Shapes)"
      ]
     },
     "execution_count": 2,
     "metadata": {},
     "output_type": "execute_result"
    }
   ],
   "source": [
    "OUTPUT_DIR = '/home/wout/Documents/Thesis_lokaal/Mouse_Liver_Resolve_Data'\n",
    "sdata = read_zarr( os.path.join(  OUTPUT_DIR, 'sdata.zarr'  ) )\n",
    "anndata = sc.read('/home/wout/Documents/Thesis_lokaal/Mouse_Liver_Resolve_Data/anndataNucA11') # reset original anndata\n",
    "# delete anndata\n",
    "del sdata.table\n",
    "# create anndata\n",
    "sdata.table = anndata\n",
    "sdata"
   ]
  },
  {
   "cell_type": "code",
   "execution_count": 3,
   "metadata": {},
   "outputs": [
    {
     "name": "stdout",
     "output_type": "stream",
     "text": [
      "              mean  variance       std\n",
      "gene                                  \n",
      "Acta2    -0.013174  0.711543  0.843530\n",
      "Adamtsl2 -0.008687  0.807990  0.898882\n",
      "Adgre1   -0.003641  0.887707  0.942182\n",
      "Adgrg6   -0.010040  0.724247  0.851027\n",
      "Atp6v0d2 -0.004666  0.737323  0.858675\n",
      "...            ...       ...       ...\n",
      "Vwf      -0.004971  0.926039  0.962309\n",
      "Wnt2     -0.004918  0.814758  0.902640\n",
      "Wnt9b    -0.020738  0.385461  0.620855\n",
      "Wt1      -0.019533  0.266815  0.516541\n",
      "Xcr1     -0.018143  0.333090  0.577140\n",
      "\n",
      "[99 rows x 3 columns]\n"
     ]
    },
    {
     "data": {
      "text/plain": [
       "<matplotlib.collections.PathCollection at 0x7f13b4840d90>"
      ]
     },
     "execution_count": 3,
     "metadata": {},
     "output_type": "execute_result"
    },
    {
     "data": {
      "image/png": "[encoded data removed]",
      "text/plain": [
       "<Figure size 640x480 with 1 Axes>"
      ]
     },
     "metadata": {},
     "output_type": "display_data"
    }
   ],
   "source": [
    "sdata.table.to_df()\n",
    "# calculate average per column\n",
    "avg = sdata.table.to_df().mean(axis=0)\n",
    "# calculate variance per column\n",
    "var = sdata.table.to_df().var(axis=0)\n",
    "# calculate std per column\n",
    "std = sdata.table.to_df().std(axis=0)\n",
    "# make dataframe with columns avg and var\n",
    "pd_stats = pd.DataFrame({'mean': avg, 'variance': var, 'std': std})\n",
    "print(pd_stats)\n",
    "# plot mean vs variance\n",
    "plt.scatter(pd_stats['mean'], pd_stats['std'])"
   ]
  },
  {
   "cell_type": "code",
   "execution_count": 4,
   "metadata": {},
   "outputs": [],
   "source": [
    "path_mg = \"/home/wout/Documents/Thesis_lokaal/Mouse_Liver_Resolve_Data/markerGeneListBasic.csv\"\n",
    "path_marker_genes = path_mg,\n",
    "marker_genes = pd.read_csv(path_marker_genes[0], sep=',',index_col=0)\n",
    "scores_cell_celltype = pd.DataFrame()\n",
    "cell_types = marker_genes.columns.tolist()\n",
    "matrix = sdata.table.to_df()\n",
    "# Divide the expression of each gene by its std\n",
    "# divide each column of matrix by std of that column\n",
    "matrix = matrix.div(matrix.std(axis=0))\n",
    "all_mean_expression = sdata.table.to_df().mean(axis=0)\n"
   ]
  },
  {
   "cell_type": "code",
   "execution_count": 5,
   "metadata": {},
   "outputs": [
    {
     "name": "stdout",
     "output_type": "stream",
     "text": [
      "['Hepa', 'LSEC', 'Endo vein', 'Chol', 'Kupf', 'Stel', 'Fibr', 'B cell', 'Meso']\n"
     ]
    },
    {
     "data": {
      "text/plain": [
       "[10, 11, 9, 7, 16, 16, 21, 4, 5]"
      ]
     },
     "execution_count": 5,
     "metadata": {},
     "output_type": "execute_result"
    }
   ],
   "source": [
    "Nmarkers = marker_genes.sum(axis=0).to_list()\n",
    "print(marker_genes.columns.tolist())\n",
    "Nmarkers"
   ]
  },
  {
   "cell_type": "code",
   "execution_count": 6,
   "metadata": {},
   "outputs": [
    {
     "data": {
      "text/html": [
       "<div>\n",
       "<style scoped>\n",
       "    .dataframe tbody tr th:only-of-type {\n",
       "        vertical-align: middle;\n",
       "    }\n",
       "\n",
       "    .dataframe tbody tr th {\n",
       "        vertical-align: top;\n",
       "    }\n",
       "\n",
       "    .dataframe thead th {\n",
       "        text-align: right;\n",
       "    }\n",
       "</style>\n",
       "<table border=\"1\" class=\"dataframe\">\n",
       "  <thead>\n",
       "    <tr style=\"text-align: right;\">\n",
       "      <th></th>\n",
       "      <th>Hepa</th>\n",
       "      <th>LSEC</th>\n",
       "      <th>Endo vein</th>\n",
       "      <th>Chol</th>\n",
       "      <th>Kupf</th>\n",
       "      <th>Stel</th>\n",
       "      <th>Fibr</th>\n",
       "      <th>B cell</th>\n",
       "      <th>Meso</th>\n",
       "    </tr>\n",
       "  </thead>\n",
       "  <tbody>\n",
       "    <tr>\n",
       "      <th>0</th>\n",
       "      <td>5.861580</td>\n",
       "      <td>-3.153429</td>\n",
       "      <td>-0.535184</td>\n",
       "      <td>0.382180</td>\n",
       "      <td>-2.133089</td>\n",
       "      <td>-4.245910</td>\n",
       "      <td>-3.314634</td>\n",
       "      <td>-0.504064</td>\n",
       "      <td>-0.483616</td>\n",
       "    </tr>\n",
       "    <tr>\n",
       "      <th>1</th>\n",
       "      <td>-4.979719</td>\n",
       "      <td>-0.596915</td>\n",
       "      <td>-1.827885</td>\n",
       "      <td>-3.414234</td>\n",
       "      <td>30.353657</td>\n",
       "      <td>-5.605609</td>\n",
       "      <td>25.855924</td>\n",
       "      <td>-0.504064</td>\n",
       "      <td>23.139886</td>\n",
       "    </tr>\n",
       "    <tr>\n",
       "      <th>2</th>\n",
       "      <td>-5.072871</td>\n",
       "      <td>-3.153429</td>\n",
       "      <td>-1.827885</td>\n",
       "      <td>-2.729599</td>\n",
       "      <td>-2.132549</td>\n",
       "      <td>-4.704757</td>\n",
       "      <td>40.810118</td>\n",
       "      <td>-0.504064</td>\n",
       "      <td>40.807220</td>\n",
       "    </tr>\n",
       "    <tr>\n",
       "      <th>3</th>\n",
       "      <td>-3.231192</td>\n",
       "      <td>-3.153429</td>\n",
       "      <td>-1.827885</td>\n",
       "      <td>-1.851334</td>\n",
       "      <td>-4.061868</td>\n",
       "      <td>-4.645351</td>\n",
       "      <td>17.699311</td>\n",
       "      <td>-0.504064</td>\n",
       "      <td>13.802720</td>\n",
       "    </tr>\n",
       "    <tr>\n",
       "      <th>4</th>\n",
       "      <td>-2.301914</td>\n",
       "      <td>-3.153429</td>\n",
       "      <td>-1.827885</td>\n",
       "      <td>-0.436926</td>\n",
       "      <td>-4.061868</td>\n",
       "      <td>-2.847748</td>\n",
       "      <td>-3.132565</td>\n",
       "      <td>-0.504064</td>\n",
       "      <td>-0.483616</td>\n",
       "    </tr>\n",
       "    <tr>\n",
       "      <th>...</th>\n",
       "      <td>...</td>\n",
       "      <td>...</td>\n",
       "      <td>...</td>\n",
       "      <td>...</td>\n",
       "      <td>...</td>\n",
       "      <td>...</td>\n",
       "      <td>...</td>\n",
       "      <td>...</td>\n",
       "      <td>...</td>\n",
       "    </tr>\n",
       "    <tr>\n",
       "      <th>11223</th>\n",
       "      <td>-0.235959</td>\n",
       "      <td>-3.153429</td>\n",
       "      <td>-1.827885</td>\n",
       "      <td>-0.865403</td>\n",
       "      <td>-4.061868</td>\n",
       "      <td>-2.559206</td>\n",
       "      <td>-3.329815</td>\n",
       "      <td>-0.504064</td>\n",
       "      <td>-0.483616</td>\n",
       "    </tr>\n",
       "    <tr>\n",
       "      <th>11224</th>\n",
       "      <td>5.060093</td>\n",
       "      <td>-3.153429</td>\n",
       "      <td>-1.827885</td>\n",
       "      <td>0.069933</td>\n",
       "      <td>0.580741</td>\n",
       "      <td>-1.913876</td>\n",
       "      <td>-2.498120</td>\n",
       "      <td>-0.504064</td>\n",
       "      <td>-0.483616</td>\n",
       "    </tr>\n",
       "    <tr>\n",
       "      <th>11225</th>\n",
       "      <td>0.858042</td>\n",
       "      <td>-3.153429</td>\n",
       "      <td>-1.827885</td>\n",
       "      <td>-0.896138</td>\n",
       "      <td>0.618578</td>\n",
       "      <td>-5.159681</td>\n",
       "      <td>-4.228405</td>\n",
       "      <td>-0.504064</td>\n",
       "      <td>-0.483616</td>\n",
       "    </tr>\n",
       "    <tr>\n",
       "      <th>11226</th>\n",
       "      <td>-7.600524</td>\n",
       "      <td>-3.153429</td>\n",
       "      <td>-1.827885</td>\n",
       "      <td>-2.956632</td>\n",
       "      <td>1.597105</td>\n",
       "      <td>29.493776</td>\n",
       "      <td>18.377426</td>\n",
       "      <td>-0.504064</td>\n",
       "      <td>-0.483616</td>\n",
       "    </tr>\n",
       "    <tr>\n",
       "      <th>11227</th>\n",
       "      <td>-1.827239</td>\n",
       "      <td>5.901755</td>\n",
       "      <td>2.384081</td>\n",
       "      <td>-0.810622</td>\n",
       "      <td>53.698635</td>\n",
       "      <td>-3.810854</td>\n",
       "      <td>-3.223820</td>\n",
       "      <td>-0.504064</td>\n",
       "      <td>-0.483616</td>\n",
       "    </tr>\n",
       "  </tbody>\n",
       "</table>\n",
       "<p>11228 rows × 9 columns</p>\n",
       "</div>"
      ],
      "text/plain": [
       "           Hepa      LSEC  Endo vein      Chol       Kupf       Stel  \\\n",
       "0      5.861580 -3.153429  -0.535184  0.382180  -2.133089  -4.245910   \n",
       "1     -4.979719 -0.596915  -1.827885 -3.414234  30.353657  -5.605609   \n",
       "2     -5.072871 -3.153429  -1.827885 -2.729599  -2.132549  -4.704757   \n",
       "3     -3.231192 -3.153429  -1.827885 -1.851334  -4.061868  -4.645351   \n",
       "4     -2.301914 -3.153429  -1.827885 -0.436926  -4.061868  -2.847748   \n",
       "...         ...       ...        ...       ...        ...        ...   \n",
       "11223 -0.235959 -3.153429  -1.827885 -0.865403  -4.061868  -2.559206   \n",
       "11224  5.060093 -3.153429  -1.827885  0.069933   0.580741  -1.913876   \n",
       "11225  0.858042 -3.153429  -1.827885 -0.896138   0.618578  -5.159681   \n",
       "11226 -7.600524 -3.153429  -1.827885 -2.956632   1.597105  29.493776   \n",
       "11227 -1.827239  5.901755   2.384081 -0.810622  53.698635  -3.810854   \n",
       "\n",
       "            Fibr    B cell       Meso  \n",
       "0      -3.314634 -0.504064  -0.483616  \n",
       "1      25.855924 -0.504064  23.139886  \n",
       "2      40.810118 -0.504064  40.807220  \n",
       "3      17.699311 -0.504064  13.802720  \n",
       "4      -3.132565 -0.504064  -0.483616  \n",
       "...          ...       ...        ...  \n",
       "11223  -3.329815 -0.504064  -0.483616  \n",
       "11224  -2.498120 -0.504064  -0.483616  \n",
       "11225  -4.228405 -0.504064  -0.483616  \n",
       "11226  18.377426 -0.504064  -0.483616  \n",
       "11227  -3.223820 -0.504064  -0.483616  \n",
       "\n",
       "[11228 rows x 9 columns]"
      ]
     },
     "execution_count": 6,
     "metadata": {},
     "output_type": "execute_result"
    }
   ],
   "source": [
    "\n",
    "for cell_type in cell_types:\n",
    "    scores_cells = []\n",
    "    for i in range(matrix.shape[0]):\n",
    "        score = 0 \n",
    "        for gene in marker_genes[marker_genes[cell_type] == 1].index.tolist():\n",
    "            score = score + (matrix[gene][i] - all_mean_expression[gene])\n",
    "        scores_cells.append(score)\n",
    "    scores_cell_celltype[cell_type] = scores_cells\n",
    "scores_cell_celltype \n"
   ]
  },
  {
   "cell_type": "code",
   "execution_count": 7,
   "metadata": {},
   "outputs": [
    {
     "name": "stdout",
     "output_type": "stream",
     "text": [
      "-8.520634572341509\n",
      "-3.9584371737242656\n",
      "3.6307834014027747\n",
      "7.58922057512704\n",
      "0.75\n"
     ]
    },
    {
     "data": {
      "image/png": "[encoded data removed]",
      "text/plain": [
       "<Figure size 640x480 with 1 Axes>"
      ]
     },
     "metadata": {},
     "output_type": "display_data"
    },
    {
     "name": "stdout",
     "output_type": "stream",
     "text": [
      "-3.15342934646851\n",
      "-3.15342934646851\n",
      "-0.5824884014122753\n",
      "2.5709409450562344\n",
      "0.4946562166013538\n"
     ]
    },
    {
     "data": {
      "image/png": "[encoded data removed]",
      "text/plain": [
       "<Figure size 640x480 with 1 Axes>"
      ]
     },
     "metadata": {},
     "output_type": "display_data"
    },
    {
     "name": "stdout",
     "output_type": "stream",
     "text": [
      "-1.8278850425694095\n",
      "-1.8278850425694095\n",
      "-0.3393932740721526\n",
      "1.488491768497257\n",
      "0.4153900961881012\n"
     ]
    },
    {
     "data": {
      "image/png": "[encoded data removed]",
      "text/plain": [
       "<Figure size 640x480 with 1 Axes>"
      ]
     },
     "metadata": {},
     "output_type": "display_data"
    },
    {
     "name": "stdout",
     "output_type": "stream",
     "text": [
      "-3.414233705439205\n",
      "-2.153853443356971\n",
      "1.0681182625568624\n",
      "3.221971705913833\n",
      "0.75\n"
     ]
    },
    {
     "data": {
      "image/png": "[encoded data removed]",
      "text/plain": [
       "<Figure size 640x480 with 1 Axes>"
      ]
     },
     "metadata": {},
     "output_type": "display_data"
    },
    {
     "name": "stdout",
     "output_type": "stream",
     "text": [
      "-4.061868276114145\n",
      "-4.061868276114145\n",
      "-1.1865808149471564\n",
      "2.875287461166989\n",
      "0.733701460634129\n"
     ]
    },
    {
     "data": {
      "image/png": "[encoded data removed]",
      "text/plain": [
       "<Figure size 640x480 with 1 Axes>"
      ]
     },
     "metadata": {},
     "output_type": "display_data"
    },
    {
     "name": "stdout",
     "output_type": "stream",
     "text": [
      "-6.208251226806471\n",
      "-3.622703910997395\n",
      "0.12777915197209583\n",
      "3.7504830629694905\n",
      "0.75\n"
     ]
    },
    {
     "data": {
      "image/png": "[encoded data removed]",
      "text/plain": [
       "<Figure size 640x480 with 1 Axes>"
      ]
     },
     "metadata": {},
     "output_type": "display_data"
    },
    {
     "name": "stdout",
     "output_type": "stream",
     "text": [
      "-5.276974525124843\n",
      "-3.80027105193236\n",
      "-0.8944663140935112\n",
      "2.905804737838849\n",
      "0.75\n"
     ]
    },
    {
     "data": {
      "image/png": "[encoded data removed]",
      "text/plain": [
       "<Figure size 640x480 with 1 Axes>"
      ]
     },
     "metadata": {},
     "output_type": "display_data"
    },
    {
     "name": "stdout",
     "output_type": "stream",
     "text": [
      "-0.5040637071216946\n",
      "-0.5040637071216946\n",
      "-0.5040637071216946\n",
      "0.0\n",
      "0.0553081581759886\n"
     ]
    },
    {
     "data": {
      "image/png": "[encoded data removed]",
      "text/plain": [
       "<Figure size 640x480 with 1 Axes>"
      ]
     },
     "metadata": {},
     "output_type": "display_data"
    },
    {
     "name": "stdout",
     "output_type": "stream",
     "text": [
      "-0.4836163218615129\n",
      "-0.4836163218615129\n",
      "-0.4836163218615129\n",
      "0.0\n",
      "0.04845030281439259\n"
     ]
    },
    {
     "data": {
      "image/png": "[encoded data removed]",
      "text/plain": [
       "<Figure size 640x480 with 1 Axes>"
      ]
     },
     "metadata": {},
     "output_type": "display_data"
    }
   ],
   "source": [
    "# plot histogram of each column of scores_cell_celltype\n",
    "for cell_type in cell_types:\n",
    "    plt.hist(scores_cell_celltype[cell_type], bins=200)\n",
    "    plt.title(cell_type)\n",
    "    print(np.min(scores_cell_celltype[cell_type]))\n",
    "    print(np.percentile(scores_cell_celltype[cell_type],25))\n",
    "    print(np.percentile(scores_cell_celltype[cell_type],75))\n",
    "    print(np.percentile(scores_cell_celltype[cell_type],75) - np.percentile(scores_cell_celltype[cell_type],25))\n",
    "    # percentage above first quartile\n",
    "    print(np.sum(scores_cell_celltype[cell_type] > np.percentile(scores_cell_celltype[cell_type],25))/len(scores_cell_celltype[cell_type]))\n",
    "    plt.show()"
   ]
  },
  {
   "cell_type": "code",
   "execution_count": 8,
   "metadata": {},
   "outputs": [
    {
     "data": {
      "text/html": [
       "<div>\n",
       "<style scoped>\n",
       "    .dataframe tbody tr th:only-of-type {\n",
       "        vertical-align: middle;\n",
       "    }\n",
       "\n",
       "    .dataframe tbody tr th {\n",
       "        vertical-align: top;\n",
       "    }\n",
       "\n",
       "    .dataframe thead th {\n",
       "        text-align: right;\n",
       "    }\n",
       "</style>\n",
       "<table border=\"1\" class=\"dataframe\">\n",
       "  <thead>\n",
       "    <tr style=\"text-align: right;\">\n",
       "      <th></th>\n",
       "      <th>Hepa</th>\n",
       "      <th>LSEC</th>\n",
       "      <th>Endo vein</th>\n",
       "      <th>Chol</th>\n",
       "      <th>Kupf</th>\n",
       "      <th>Stel</th>\n",
       "      <th>Fibr</th>\n",
       "      <th>B cell</th>\n",
       "      <th>Meso</th>\n",
       "    </tr>\n",
       "  </thead>\n",
       "  <tbody>\n",
       "    <tr>\n",
       "      <th>0</th>\n",
       "      <td>0.876202</td>\n",
       "      <td>0.252716</td>\n",
       "      <td>0.728937</td>\n",
       "      <td>0.658799</td>\n",
       "      <td>0.635198</td>\n",
       "      <td>0.160135</td>\n",
       "      <td>0.355629</td>\n",
       "      <td>0.47239</td>\n",
       "      <td>0.475819</td>\n",
       "    </tr>\n",
       "    <tr>\n",
       "      <th>1</th>\n",
       "      <td>0.196918</td>\n",
       "      <td>0.749510</td>\n",
       "      <td>0.292349</td>\n",
       "      <td>0.026274</td>\n",
       "      <td>0.969808</td>\n",
       "      <td>0.036605</td>\n",
       "      <td>0.974172</td>\n",
       "      <td>0.47239</td>\n",
       "      <td>0.997684</td>\n",
       "    </tr>\n",
       "    <tr>\n",
       "      <th>2</th>\n",
       "      <td>0.191218</td>\n",
       "      <td>0.252716</td>\n",
       "      <td>0.292349</td>\n",
       "      <td>0.154524</td>\n",
       "      <td>0.635376</td>\n",
       "      <td>0.109726</td>\n",
       "      <td>0.991183</td>\n",
       "      <td>0.47239</td>\n",
       "      <td>0.999198</td>\n",
       "    </tr>\n",
       "    <tr>\n",
       "      <th>3</th>\n",
       "      <td>0.286961</td>\n",
       "      <td>0.252716</td>\n",
       "      <td>0.292349</td>\n",
       "      <td>0.298094</td>\n",
       "      <td>0.133194</td>\n",
       "      <td>0.116316</td>\n",
       "      <td>0.949056</td>\n",
       "      <td>0.47239</td>\n",
       "      <td>0.992162</td>\n",
       "    </tr>\n",
       "    <tr>\n",
       "      <th>4</th>\n",
       "      <td>0.339508</td>\n",
       "      <td>0.252716</td>\n",
       "      <td>0.292349</td>\n",
       "      <td>0.531261</td>\n",
       "      <td>0.133194</td>\n",
       "      <td>0.376113</td>\n",
       "      <td>0.399092</td>\n",
       "      <td>0.47239</td>\n",
       "      <td>0.475819</td>\n",
       "    </tr>\n",
       "    <tr>\n",
       "      <th>...</th>\n",
       "      <td>...</td>\n",
       "      <td>...</td>\n",
       "      <td>...</td>\n",
       "      <td>...</td>\n",
       "      <td>...</td>\n",
       "      <td>...</td>\n",
       "      <td>...</td>\n",
       "      <td>...</td>\n",
       "      <td>...</td>\n",
       "    </tr>\n",
       "    <tr>\n",
       "      <th>11223</th>\n",
       "      <td>0.478180</td>\n",
       "      <td>0.252716</td>\n",
       "      <td>0.292349</td>\n",
       "      <td>0.462237</td>\n",
       "      <td>0.133194</td>\n",
       "      <td>0.422782</td>\n",
       "      <td>0.351621</td>\n",
       "      <td>0.47239</td>\n",
       "      <td>0.475819</td>\n",
       "    </tr>\n",
       "    <tr>\n",
       "      <th>11224</th>\n",
       "      <td>0.837104</td>\n",
       "      <td>0.252716</td>\n",
       "      <td>0.292349</td>\n",
       "      <td>0.610082</td>\n",
       "      <td>0.847079</td>\n",
       "      <td>0.523780</td>\n",
       "      <td>0.538030</td>\n",
       "      <td>0.47239</td>\n",
       "      <td>0.475819</td>\n",
       "    </tr>\n",
       "    <tr>\n",
       "      <th>11225</th>\n",
       "      <td>0.557268</td>\n",
       "      <td>0.252716</td>\n",
       "      <td>0.292349</td>\n",
       "      <td>0.457161</td>\n",
       "      <td>0.848058</td>\n",
       "      <td>0.068222</td>\n",
       "      <td>0.168864</td>\n",
       "      <td>0.47239</td>\n",
       "      <td>0.475819</td>\n",
       "    </tr>\n",
       "    <tr>\n",
       "      <th>11226</th>\n",
       "      <td>0.057357</td>\n",
       "      <td>0.252716</td>\n",
       "      <td>0.292349</td>\n",
       "      <td>0.119255</td>\n",
       "      <td>0.869701</td>\n",
       "      <td>0.981653</td>\n",
       "      <td>0.953064</td>\n",
       "      <td>0.47239</td>\n",
       "      <td>0.475819</td>\n",
       "    </tr>\n",
       "    <tr>\n",
       "      <th>11227</th>\n",
       "      <td>0.368988</td>\n",
       "      <td>0.861863</td>\n",
       "      <td>0.890987</td>\n",
       "      <td>0.471055</td>\n",
       "      <td>0.995636</td>\n",
       "      <td>0.221411</td>\n",
       "      <td>0.377627</td>\n",
       "      <td>0.47239</td>\n",
       "      <td>0.475819</td>\n",
       "    </tr>\n",
       "  </tbody>\n",
       "</table>\n",
       "<p>11228 rows × 9 columns</p>\n",
       "</div>"
      ],
      "text/plain": [
       "           Hepa      LSEC  Endo vein      Chol      Kupf      Stel      Fibr  \\\n",
       "0      0.876202  0.252716   0.728937  0.658799  0.635198  0.160135  0.355629   \n",
       "1      0.196918  0.749510   0.292349  0.026274  0.969808  0.036605  0.974172   \n",
       "2      0.191218  0.252716   0.292349  0.154524  0.635376  0.109726  0.991183   \n",
       "3      0.286961  0.252716   0.292349  0.298094  0.133194  0.116316  0.949056   \n",
       "4      0.339508  0.252716   0.292349  0.531261  0.133194  0.376113  0.399092   \n",
       "...         ...       ...        ...       ...       ...       ...       ...   \n",
       "11223  0.478180  0.252716   0.292349  0.462237  0.133194  0.422782  0.351621   \n",
       "11224  0.837104  0.252716   0.292349  0.610082  0.847079  0.523780  0.538030   \n",
       "11225  0.557268  0.252716   0.292349  0.457161  0.848058  0.068222  0.168864   \n",
       "11226  0.057357  0.252716   0.292349  0.119255  0.869701  0.981653  0.953064   \n",
       "11227  0.368988  0.861863   0.890987  0.471055  0.995636  0.221411  0.377627   \n",
       "\n",
       "        B cell      Meso  \n",
       "0      0.47239  0.475819  \n",
       "1      0.47239  0.997684  \n",
       "2      0.47239  0.999198  \n",
       "3      0.47239  0.992162  \n",
       "4      0.47239  0.475819  \n",
       "...        ...       ...  \n",
       "11223  0.47239  0.475819  \n",
       "11224  0.47239  0.475819  \n",
       "11225  0.47239  0.475819  \n",
       "11226  0.47239  0.475819  \n",
       "11227  0.47239  0.475819  \n",
       "\n",
       "[11228 rows x 9 columns]"
      ]
     },
     "execution_count": 8,
     "metadata": {},
     "output_type": "execute_result"
    }
   ],
   "source": [
    "# replace each value scores_cell_celltype by its percentile\n",
    "for cell_type in cell_types:\n",
    "    scores_cell_celltype[cell_type] = scores_cell_celltype[cell_type].rank(pct=True)\n",
    "scores_cell_celltype"
   ]
  },
  {
   "cell_type": "code",
   "execution_count": 15,
   "metadata": {},
   "outputs": [
    {
     "name": "stdout",
     "output_type": "stream",
     "text": [
      "0.008193801211257571\n",
      "0.25006679729248305\n",
      "0.7500222657641611\n",
      "0.49995546847167804\n",
      "0.75\n"
     ]
    },
    {
     "data": {
      "image/png": "[encoded data removed]",
      "text/plain": [
       "<Figure size 640x480 with 1 Axes>"
      ]
     },
     "metadata": {},
     "output_type": "display_data"
    },
    {
     "name": "stdout",
     "output_type": "stream",
     "text": [
      "0.25271642322764515\n",
      "0.25271642322764515\n",
      "0.7500222657641611\n",
      "0.49730584253651594\n",
      "0.4946562166013538\n"
     ]
    },
    {
     "data": {
      "image/png": "[encoded data removed]",
      "text/plain": [
       "<Figure size 640x480 with 1 Axes>"
      ]
     },
     "metadata": {},
     "output_type": "display_data"
    },
    {
     "name": "stdout",
     "output_type": "stream",
     "text": [
      "0.2923494834342715\n",
      "0.2923494834342715\n",
      "0.7500222657641611\n",
      "0.4576727823298896\n",
      "0.4153900961881012\n"
     ]
    },
    {
     "data": {
      "image/png": "[encoded data removed]",
      "text/plain": [
       "<Figure size 640x480 with 1 Axes>"
      ]
     },
     "metadata": {},
     "output_type": "display_data"
    },
    {
     "name": "stdout",
     "output_type": "stream",
     "text": [
      "0.026273601710010686\n",
      "0.25006679729248305\n",
      "0.7500222657641611\n",
      "0.49995546847167804\n",
      "0.75\n"
     ]
    },
    {
     "data": {
      "image/png": "[encoded data removed]",
      "text/plain": [
       "<Figure size 640x480 with 1 Axes>"
      ]
     },
     "metadata": {},
     "output_type": "display_data"
    },
    {
     "name": "stdout",
     "output_type": "stream",
     "text": [
      "0.13319380121125757\n",
      "0.13319380121125757\n",
      "0.7500222657641611\n",
      "0.6168284645529035\n",
      "0.733701460634129\n"
     ]
    },
    {
     "data": {
      "image/png": "[encoded data removed]",
      "text/plain": [
       "<Figure size 640x480 with 1 Axes>"
      ]
     },
     "metadata": {},
     "output_type": "display_data"
    },
    {
     "name": "stdout",
     "output_type": "stream",
     "text": [
      "0.007481296758104738\n",
      "0.25006679729248305\n",
      "0.7500222657641611\n",
      "0.49995546847167804\n",
      "0.75\n"
     ]
    },
    {
     "data": {
      "image/png": "[encoded data removed]",
      "text/plain": [
       "<Figure size 640x480 with 1 Axes>"
      ]
     },
     "metadata": {},
     "output_type": "display_data"
    },
    {
     "name": "stdout",
     "output_type": "stream",
     "text": [
      "0.01371571072319202\n",
      "0.25006679729248305\n",
      "0.7500222657641611\n",
      "0.49995546847167804\n",
      "0.75\n"
     ]
    },
    {
     "data": {
      "image/png": "[encoded data removed]",
      "text/plain": [
       "<Figure size 640x480 with 1 Axes>"
      ]
     },
     "metadata": {},
     "output_type": "display_data"
    },
    {
     "name": "stdout",
     "output_type": "stream",
     "text": [
      "0.47239045244032773\n",
      "0.47239045244032773\n",
      "0.47239045244032773\n",
      "0.0\n",
      "0.0553081581759886\n"
     ]
    },
    {
     "data": {
      "image/png": "[encoded data removed]",
      "text/plain": [
       "<Figure size 640x480 with 1 Axes>"
      ]
     },
     "metadata": {},
     "output_type": "display_data"
    },
    {
     "name": "stdout",
     "output_type": "stream",
     "text": [
      "0.47581938012112573\n",
      "0.47581938012112573\n",
      "0.47581938012112573\n",
      "0.0\n",
      "0.04845030281439259\n"
     ]
    },
    {
     "data": {
      "image/png": "[encoded data removed]",
      "text/plain": [
       "<Figure size 640x480 with 1 Axes>"
      ]
     },
     "metadata": {},
     "output_type": "display_data"
    }
   ],
   "source": [
    "for cell_type in cell_types:\n",
    "    plt.hist(scores_cell_celltype[cell_type], bins=200)\n",
    "    plt.title(cell_type)\n",
    "    print(np.min(scores_cell_celltype[cell_type]))\n",
    "    print(np.percentile(scores_cell_celltype[cell_type],25))\n",
    "    print(np.percentile(scores_cell_celltype[cell_type],75))\n",
    "    print(np.percentile(scores_cell_celltype[cell_type],75) - np.percentile(scores_cell_celltype[cell_type],25))\n",
    "    # percentage above first quartile\n",
    "    print(np.sum(scores_cell_celltype[cell_type] > np.percentile(scores_cell_celltype[cell_type],25))/len(scores_cell_celltype[cell_type]))\n",
    "    plt.show()"
   ]
  },
  {
   "cell_type": "code",
   "execution_count": 9,
   "metadata": {},
   "outputs": [
    {
     "data": {
      "text/html": [
       "<div>\n",
       "<style scoped>\n",
       "    .dataframe tbody tr th:only-of-type {\n",
       "        vertical-align: middle;\n",
       "    }\n",
       "\n",
       "    .dataframe tbody tr th {\n",
       "        vertical-align: top;\n",
       "    }\n",
       "\n",
       "    .dataframe thead th {\n",
       "        text-align: right;\n",
       "    }\n",
       "</style>\n",
       "<table border=\"1\" class=\"dataframe\">\n",
       "  <thead>\n",
       "    <tr style=\"text-align: right;\">\n",
       "      <th></th>\n",
       "      <th>Hepa</th>\n",
       "      <th>LSEC</th>\n",
       "      <th>Endo vein</th>\n",
       "      <th>Chol</th>\n",
       "      <th>Kupf</th>\n",
       "      <th>Stel</th>\n",
       "      <th>Fibr</th>\n",
       "      <th>B cell</th>\n",
       "      <th>Meso</th>\n",
       "    </tr>\n",
       "  </thead>\n",
       "  <tbody>\n",
       "    <tr>\n",
       "      <th>0</th>\n",
       "      <td>True</td>\n",
       "      <td>0.252716</td>\n",
       "      <td>True</td>\n",
       "      <td>True</td>\n",
       "      <td>True</td>\n",
       "      <td>0.160135</td>\n",
       "      <td>True</td>\n",
       "      <td>0.47239</td>\n",
       "      <td>0.475819</td>\n",
       "    </tr>\n",
       "    <tr>\n",
       "      <th>1</th>\n",
       "      <td>0.196918</td>\n",
       "      <td>True</td>\n",
       "      <td>0.292349</td>\n",
       "      <td>0.026274</td>\n",
       "      <td>True</td>\n",
       "      <td>0.036605</td>\n",
       "      <td>True</td>\n",
       "      <td>0.47239</td>\n",
       "      <td>True</td>\n",
       "    </tr>\n",
       "    <tr>\n",
       "      <th>2</th>\n",
       "      <td>0.191218</td>\n",
       "      <td>0.252716</td>\n",
       "      <td>0.292349</td>\n",
       "      <td>0.154524</td>\n",
       "      <td>True</td>\n",
       "      <td>0.109726</td>\n",
       "      <td>True</td>\n",
       "      <td>0.47239</td>\n",
       "      <td>True</td>\n",
       "    </tr>\n",
       "    <tr>\n",
       "      <th>3</th>\n",
       "      <td>True</td>\n",
       "      <td>0.252716</td>\n",
       "      <td>0.292349</td>\n",
       "      <td>True</td>\n",
       "      <td>0.133194</td>\n",
       "      <td>0.116316</td>\n",
       "      <td>True</td>\n",
       "      <td>0.47239</td>\n",
       "      <td>True</td>\n",
       "    </tr>\n",
       "    <tr>\n",
       "      <th>4</th>\n",
       "      <td>True</td>\n",
       "      <td>0.252716</td>\n",
       "      <td>0.292349</td>\n",
       "      <td>True</td>\n",
       "      <td>0.133194</td>\n",
       "      <td>True</td>\n",
       "      <td>True</td>\n",
       "      <td>0.47239</td>\n",
       "      <td>0.475819</td>\n",
       "    </tr>\n",
       "    <tr>\n",
       "      <th>...</th>\n",
       "      <td>...</td>\n",
       "      <td>...</td>\n",
       "      <td>...</td>\n",
       "      <td>...</td>\n",
       "      <td>...</td>\n",
       "      <td>...</td>\n",
       "      <td>...</td>\n",
       "      <td>...</td>\n",
       "      <td>...</td>\n",
       "    </tr>\n",
       "    <tr>\n",
       "      <th>11223</th>\n",
       "      <td>True</td>\n",
       "      <td>0.252716</td>\n",
       "      <td>0.292349</td>\n",
       "      <td>True</td>\n",
       "      <td>0.133194</td>\n",
       "      <td>True</td>\n",
       "      <td>True</td>\n",
       "      <td>0.47239</td>\n",
       "      <td>0.475819</td>\n",
       "    </tr>\n",
       "    <tr>\n",
       "      <th>11224</th>\n",
       "      <td>True</td>\n",
       "      <td>0.252716</td>\n",
       "      <td>0.292349</td>\n",
       "      <td>True</td>\n",
       "      <td>True</td>\n",
       "      <td>True</td>\n",
       "      <td>True</td>\n",
       "      <td>0.47239</td>\n",
       "      <td>0.475819</td>\n",
       "    </tr>\n",
       "    <tr>\n",
       "      <th>11225</th>\n",
       "      <td>True</td>\n",
       "      <td>0.252716</td>\n",
       "      <td>0.292349</td>\n",
       "      <td>True</td>\n",
       "      <td>True</td>\n",
       "      <td>0.068222</td>\n",
       "      <td>0.168864</td>\n",
       "      <td>0.47239</td>\n",
       "      <td>0.475819</td>\n",
       "    </tr>\n",
       "    <tr>\n",
       "      <th>11226</th>\n",
       "      <td>0.057357</td>\n",
       "      <td>0.252716</td>\n",
       "      <td>0.292349</td>\n",
       "      <td>0.119255</td>\n",
       "      <td>True</td>\n",
       "      <td>True</td>\n",
       "      <td>True</td>\n",
       "      <td>0.47239</td>\n",
       "      <td>0.475819</td>\n",
       "    </tr>\n",
       "    <tr>\n",
       "      <th>11227</th>\n",
       "      <td>True</td>\n",
       "      <td>True</td>\n",
       "      <td>True</td>\n",
       "      <td>True</td>\n",
       "      <td>True</td>\n",
       "      <td>0.221411</td>\n",
       "      <td>True</td>\n",
       "      <td>0.47239</td>\n",
       "      <td>0.475819</td>\n",
       "    </tr>\n",
       "  </tbody>\n",
       "</table>\n",
       "<p>11228 rows × 9 columns</p>\n",
       "</div>"
      ],
      "text/plain": [
       "           Hepa      LSEC Endo vein      Chol      Kupf      Stel      Fibr  \\\n",
       "0          True  0.252716      True      True      True  0.160135      True   \n",
       "1      0.196918      True  0.292349  0.026274      True  0.036605      True   \n",
       "2      0.191218  0.252716  0.292349  0.154524      True  0.109726      True   \n",
       "3          True  0.252716  0.292349      True  0.133194  0.116316      True   \n",
       "4          True  0.252716  0.292349      True  0.133194      True      True   \n",
       "...         ...       ...       ...       ...       ...       ...       ...   \n",
       "11223      True  0.252716  0.292349      True  0.133194      True      True   \n",
       "11224      True  0.252716  0.292349      True      True      True      True   \n",
       "11225      True  0.252716  0.292349      True      True  0.068222  0.168864   \n",
       "11226  0.057357  0.252716  0.292349  0.119255      True      True      True   \n",
       "11227      True      True      True      True      True  0.221411      True   \n",
       "\n",
       "        B cell      Meso  \n",
       "0      0.47239  0.475819  \n",
       "1      0.47239      True  \n",
       "2      0.47239      True  \n",
       "3      0.47239      True  \n",
       "4      0.47239  0.475819  \n",
       "...        ...       ...  \n",
       "11223  0.47239  0.475819  \n",
       "11224  0.47239  0.475819  \n",
       "11225  0.47239  0.475819  \n",
       "11226  0.47239  0.475819  \n",
       "11227  0.47239  0.475819  \n",
       "\n",
       "[11228 rows x 9 columns]"
      ]
     },
     "execution_count": 9,
     "metadata": {},
     "output_type": "execute_result"
    }
   ],
   "source": [
    "scores_cell_celltype2 = scores_cell_celltype.copy(deep=True)\n",
    "scores_cell_celltype2[scores_cell_celltype2 > scores_cell_celltype2.quantile(.25)] = True\n",
    "scores_cell_celltype2"
   ]
  },
  {
   "cell_type": "code",
   "execution_count": 10,
   "metadata": {},
   "outputs": [
    {
     "data": {
      "text/html": [
       "<div>\n",
       "<style scoped>\n",
       "    .dataframe tbody tr th:only-of-type {\n",
       "        vertical-align: middle;\n",
       "    }\n",
       "\n",
       "    .dataframe tbody tr th {\n",
       "        vertical-align: top;\n",
       "    }\n",
       "\n",
       "    .dataframe thead th {\n",
       "        text-align: right;\n",
       "    }\n",
       "</style>\n",
       "<table border=\"1\" class=\"dataframe\">\n",
       "  <thead>\n",
       "    <tr style=\"text-align: right;\">\n",
       "      <th></th>\n",
       "      <th>Hepa</th>\n",
       "      <th>LSEC</th>\n",
       "      <th>Endo vein</th>\n",
       "      <th>Chol</th>\n",
       "      <th>Kupf</th>\n",
       "      <th>Stel</th>\n",
       "      <th>Fibr</th>\n",
       "      <th>B cell</th>\n",
       "      <th>Meso</th>\n",
       "    </tr>\n",
       "  </thead>\n",
       "  <tbody>\n",
       "    <tr>\n",
       "      <th>0</th>\n",
       "      <td>0.876202</td>\n",
       "      <td>0.252716</td>\n",
       "      <td>0.728937</td>\n",
       "      <td>0.658799</td>\n",
       "      <td>0.635198</td>\n",
       "      <td>0.160135</td>\n",
       "      <td>0.355629</td>\n",
       "      <td>0.47239</td>\n",
       "      <td>0.475819</td>\n",
       "    </tr>\n",
       "    <tr>\n",
       "      <th>1</th>\n",
       "      <td>0.196918</td>\n",
       "      <td>0.749510</td>\n",
       "      <td>0.292349</td>\n",
       "      <td>0.026274</td>\n",
       "      <td>0.969808</td>\n",
       "      <td>0.036605</td>\n",
       "      <td>0.974172</td>\n",
       "      <td>0.47239</td>\n",
       "      <td>0.997684</td>\n",
       "    </tr>\n",
       "    <tr>\n",
       "      <th>2</th>\n",
       "      <td>0.191218</td>\n",
       "      <td>0.252716</td>\n",
       "      <td>0.292349</td>\n",
       "      <td>0.154524</td>\n",
       "      <td>0.635376</td>\n",
       "      <td>0.109726</td>\n",
       "      <td>0.991183</td>\n",
       "      <td>0.47239</td>\n",
       "      <td>0.999198</td>\n",
       "    </tr>\n",
       "    <tr>\n",
       "      <th>3</th>\n",
       "      <td>0.286961</td>\n",
       "      <td>0.252716</td>\n",
       "      <td>0.292349</td>\n",
       "      <td>0.298094</td>\n",
       "      <td>0.133194</td>\n",
       "      <td>0.116316</td>\n",
       "      <td>0.949056</td>\n",
       "      <td>0.47239</td>\n",
       "      <td>0.992162</td>\n",
       "    </tr>\n",
       "    <tr>\n",
       "      <th>4</th>\n",
       "      <td>0.339508</td>\n",
       "      <td>0.252716</td>\n",
       "      <td>0.292349</td>\n",
       "      <td>0.531261</td>\n",
       "      <td>0.133194</td>\n",
       "      <td>0.376113</td>\n",
       "      <td>0.399092</td>\n",
       "      <td>0.47239</td>\n",
       "      <td>0.475819</td>\n",
       "    </tr>\n",
       "    <tr>\n",
       "      <th>...</th>\n",
       "      <td>...</td>\n",
       "      <td>...</td>\n",
       "      <td>...</td>\n",
       "      <td>...</td>\n",
       "      <td>...</td>\n",
       "      <td>...</td>\n",
       "      <td>...</td>\n",
       "      <td>...</td>\n",
       "      <td>...</td>\n",
       "    </tr>\n",
       "    <tr>\n",
       "      <th>11223</th>\n",
       "      <td>0.478180</td>\n",
       "      <td>0.252716</td>\n",
       "      <td>0.292349</td>\n",
       "      <td>0.462237</td>\n",
       "      <td>0.133194</td>\n",
       "      <td>0.422782</td>\n",
       "      <td>0.351621</td>\n",
       "      <td>0.47239</td>\n",
       "      <td>0.475819</td>\n",
       "    </tr>\n",
       "    <tr>\n",
       "      <th>11224</th>\n",
       "      <td>0.837104</td>\n",
       "      <td>0.252716</td>\n",
       "      <td>0.292349</td>\n",
       "      <td>0.610082</td>\n",
       "      <td>0.847079</td>\n",
       "      <td>0.523780</td>\n",
       "      <td>0.538030</td>\n",
       "      <td>0.47239</td>\n",
       "      <td>0.475819</td>\n",
       "    </tr>\n",
       "    <tr>\n",
       "      <th>11225</th>\n",
       "      <td>0.557268</td>\n",
       "      <td>0.252716</td>\n",
       "      <td>0.292349</td>\n",
       "      <td>0.457161</td>\n",
       "      <td>0.848058</td>\n",
       "      <td>0.068222</td>\n",
       "      <td>0.168864</td>\n",
       "      <td>0.47239</td>\n",
       "      <td>0.475819</td>\n",
       "    </tr>\n",
       "    <tr>\n",
       "      <th>11226</th>\n",
       "      <td>0.057357</td>\n",
       "      <td>0.252716</td>\n",
       "      <td>0.292349</td>\n",
       "      <td>0.119255</td>\n",
       "      <td>0.869701</td>\n",
       "      <td>0.981653</td>\n",
       "      <td>0.953064</td>\n",
       "      <td>0.47239</td>\n",
       "      <td>0.475819</td>\n",
       "    </tr>\n",
       "    <tr>\n",
       "      <th>11227</th>\n",
       "      <td>0.368988</td>\n",
       "      <td>0.861863</td>\n",
       "      <td>0.890987</td>\n",
       "      <td>0.471055</td>\n",
       "      <td>0.995636</td>\n",
       "      <td>0.221411</td>\n",
       "      <td>0.377627</td>\n",
       "      <td>0.47239</td>\n",
       "      <td>0.475819</td>\n",
       "    </tr>\n",
       "  </tbody>\n",
       "</table>\n",
       "<p>11228 rows × 9 columns</p>\n",
       "</div>"
      ],
      "text/plain": [
       "           Hepa      LSEC  Endo vein      Chol      Kupf      Stel      Fibr  \\\n",
       "0      0.876202  0.252716   0.728937  0.658799  0.635198  0.160135  0.355629   \n",
       "1      0.196918  0.749510   0.292349  0.026274  0.969808  0.036605  0.974172   \n",
       "2      0.191218  0.252716   0.292349  0.154524  0.635376  0.109726  0.991183   \n",
       "3      0.286961  0.252716   0.292349  0.298094  0.133194  0.116316  0.949056   \n",
       "4      0.339508  0.252716   0.292349  0.531261  0.133194  0.376113  0.399092   \n",
       "...         ...       ...        ...       ...       ...       ...       ...   \n",
       "11223  0.478180  0.252716   0.292349  0.462237  0.133194  0.422782  0.351621   \n",
       "11224  0.837104  0.252716   0.292349  0.610082  0.847079  0.523780  0.538030   \n",
       "11225  0.557268  0.252716   0.292349  0.457161  0.848058  0.068222  0.168864   \n",
       "11226  0.057357  0.252716   0.292349  0.119255  0.869701  0.981653  0.953064   \n",
       "11227  0.368988  0.861863   0.890987  0.471055  0.995636  0.221411  0.377627   \n",
       "\n",
       "        B cell      Meso  \n",
       "0      0.47239  0.475819  \n",
       "1      0.47239  0.997684  \n",
       "2      0.47239  0.999198  \n",
       "3      0.47239  0.992162  \n",
       "4      0.47239  0.475819  \n",
       "...        ...       ...  \n",
       "11223  0.47239  0.475819  \n",
       "11224  0.47239  0.475819  \n",
       "11225  0.47239  0.475819  \n",
       "11226  0.47239  0.475819  \n",
       "11227  0.47239  0.475819  \n",
       "\n",
       "[11228 rows x 9 columns]"
      ]
     },
     "execution_count": 10,
     "metadata": {},
     "output_type": "execute_result"
    }
   ],
   "source": [
    "scores_cell_celltype"
   ]
  },
  {
   "cell_type": "code",
   "execution_count": 11,
   "metadata": {},
   "outputs": [
    {
     "data": {
      "text/plain": [
       "[]"
      ]
     },
     "execution_count": 11,
     "metadata": {},
     "output_type": "execute_result"
    }
   ],
   "source": [
    "# set each value in scores_cell_celltype to NaN that is False in scores_cell_celltype2 \n",
    "scores_cell_celltype[scores_cell_celltype2 == False] = np.nan\n",
    "# select column of max value in each row\n",
    "a = scores_cell_celltype.idxmax(axis=1).to_dict()\n",
    "# get keys of dict a with value = np.NaN\n",
    "keys = [k for k, v in a.items() if pd.isnull(v)]\n",
    "keys\n",
    "\n"
   ]
  },
  {
   "cell_type": "code",
   "execution_count": 12,
   "metadata": {},
   "outputs": [
    {
     "data": {
      "text/html": [
       "<div>\n",
       "<style scoped>\n",
       "    .dataframe tbody tr th:only-of-type {\n",
       "        vertical-align: middle;\n",
       "    }\n",
       "\n",
       "    .dataframe tbody tr th {\n",
       "        vertical-align: top;\n",
       "    }\n",
       "\n",
       "    .dataframe thead th {\n",
       "        text-align: right;\n",
       "    }\n",
       "</style>\n",
       "<table border=\"1\" class=\"dataframe\">\n",
       "  <thead>\n",
       "    <tr style=\"text-align: right;\">\n",
       "      <th></th>\n",
       "      <th>Hepa</th>\n",
       "      <th>LSEC</th>\n",
       "      <th>Endo vein</th>\n",
       "      <th>Chol</th>\n",
       "      <th>Kupf</th>\n",
       "      <th>Stel</th>\n",
       "      <th>Fibr</th>\n",
       "      <th>B cell</th>\n",
       "      <th>Meso</th>\n",
       "    </tr>\n",
       "  </thead>\n",
       "  <tbody>\n",
       "    <tr>\n",
       "      <th>0</th>\n",
       "      <td>0.875180</td>\n",
       "      <td>0.000000</td>\n",
       "      <td>0.616953</td>\n",
       "      <td>0.649593</td>\n",
       "      <td>0.579142</td>\n",
       "      <td>0.153805</td>\n",
       "      <td>0.346668</td>\n",
       "      <td>0.0</td>\n",
       "      <td>0.000000</td>\n",
       "    </tr>\n",
       "    <tr>\n",
       "      <th>1</th>\n",
       "      <td>0.190284</td>\n",
       "      <td>0.664799</td>\n",
       "      <td>0.000000</td>\n",
       "      <td>0.000000</td>\n",
       "      <td>0.965168</td>\n",
       "      <td>0.029343</td>\n",
       "      <td>0.973813</td>\n",
       "      <td>0.0</td>\n",
       "      <td>0.995582</td>\n",
       "    </tr>\n",
       "    <tr>\n",
       "      <th>2</th>\n",
       "      <td>0.184537</td>\n",
       "      <td>0.000000</td>\n",
       "      <td>0.000000</td>\n",
       "      <td>0.131711</td>\n",
       "      <td>0.579348</td>\n",
       "      <td>0.103015</td>\n",
       "      <td>0.991060</td>\n",
       "      <td>0.0</td>\n",
       "      <td>0.998471</td>\n",
       "    </tr>\n",
       "    <tr>\n",
       "      <th>3</th>\n",
       "      <td>0.281070</td>\n",
       "      <td>0.000000</td>\n",
       "      <td>0.000000</td>\n",
       "      <td>0.279155</td>\n",
       "      <td>0.000000</td>\n",
       "      <td>0.109655</td>\n",
       "      <td>0.948347</td>\n",
       "      <td>0.0</td>\n",
       "      <td>0.985048</td>\n",
       "    </tr>\n",
       "    <tr>\n",
       "      <th>4</th>\n",
       "      <td>0.334052</td>\n",
       "      <td>0.000000</td>\n",
       "      <td>0.000000</td>\n",
       "      <td>0.518613</td>\n",
       "      <td>0.000000</td>\n",
       "      <td>0.371411</td>\n",
       "      <td>0.390735</td>\n",
       "      <td>0.0</td>\n",
       "      <td>0.000000</td>\n",
       "    </tr>\n",
       "    <tr>\n",
       "      <th>...</th>\n",
       "      <td>...</td>\n",
       "      <td>...</td>\n",
       "      <td>...</td>\n",
       "      <td>...</td>\n",
       "      <td>...</td>\n",
       "      <td>...</td>\n",
       "      <td>...</td>\n",
       "      <td>...</td>\n",
       "      <td>...</td>\n",
       "    </tr>\n",
       "    <tr>\n",
       "      <th>11223</th>\n",
       "      <td>0.473869</td>\n",
       "      <td>0.000000</td>\n",
       "      <td>0.000000</td>\n",
       "      <td>0.447727</td>\n",
       "      <td>0.000000</td>\n",
       "      <td>0.418431</td>\n",
       "      <td>0.342604</td>\n",
       "      <td>0.0</td>\n",
       "      <td>0.000000</td>\n",
       "    </tr>\n",
       "    <tr>\n",
       "      <th>11224</th>\n",
       "      <td>0.835758</td>\n",
       "      <td>0.000000</td>\n",
       "      <td>0.000000</td>\n",
       "      <td>0.599561</td>\n",
       "      <td>0.823581</td>\n",
       "      <td>0.520190</td>\n",
       "      <td>0.531606</td>\n",
       "      <td>0.0</td>\n",
       "      <td>0.000000</td>\n",
       "    </tr>\n",
       "    <tr>\n",
       "      <th>11225</th>\n",
       "      <td>0.553610</td>\n",
       "      <td>0.000000</td>\n",
       "      <td>0.000000</td>\n",
       "      <td>0.442513</td>\n",
       "      <td>0.824711</td>\n",
       "      <td>0.061199</td>\n",
       "      <td>0.157305</td>\n",
       "      <td>0.0</td>\n",
       "      <td>0.000000</td>\n",
       "    </tr>\n",
       "    <tr>\n",
       "      <th>11226</th>\n",
       "      <td>0.049569</td>\n",
       "      <td>0.000000</td>\n",
       "      <td>0.000000</td>\n",
       "      <td>0.095491</td>\n",
       "      <td>0.849679</td>\n",
       "      <td>0.981515</td>\n",
       "      <td>0.952411</td>\n",
       "      <td>0.0</td>\n",
       "      <td>0.000000</td>\n",
       "    </tr>\n",
       "    <tr>\n",
       "      <th>11227</th>\n",
       "      <td>0.363775</td>\n",
       "      <td>0.815148</td>\n",
       "      <td>0.845951</td>\n",
       "      <td>0.456782</td>\n",
       "      <td>0.994965</td>\n",
       "      <td>0.215542</td>\n",
       "      <td>0.368972</td>\n",
       "      <td>0.0</td>\n",
       "      <td>0.000000</td>\n",
       "    </tr>\n",
       "  </tbody>\n",
       "</table>\n",
       "<p>11228 rows × 9 columns</p>\n",
       "</div>"
      ],
      "text/plain": [
       "           Hepa      LSEC  Endo vein      Chol      Kupf      Stel      Fibr  \\\n",
       "0      0.875180  0.000000   0.616953  0.649593  0.579142  0.153805  0.346668   \n",
       "1      0.190284  0.664799   0.000000  0.000000  0.965168  0.029343  0.973813   \n",
       "2      0.184537  0.000000   0.000000  0.131711  0.579348  0.103015  0.991060   \n",
       "3      0.281070  0.000000   0.000000  0.279155  0.000000  0.109655  0.948347   \n",
       "4      0.334052  0.000000   0.000000  0.518613  0.000000  0.371411  0.390735   \n",
       "...         ...       ...        ...       ...       ...       ...       ...   \n",
       "11223  0.473869  0.000000   0.000000  0.447727  0.000000  0.418431  0.342604   \n",
       "11224  0.835758  0.000000   0.000000  0.599561  0.823581  0.520190  0.531606   \n",
       "11225  0.553610  0.000000   0.000000  0.442513  0.824711  0.061199  0.157305   \n",
       "11226  0.049569  0.000000   0.000000  0.095491  0.849679  0.981515  0.952411   \n",
       "11227  0.363775  0.815148   0.845951  0.456782  0.994965  0.215542  0.368972   \n",
       "\n",
       "       B cell      Meso  \n",
       "0         0.0  0.000000  \n",
       "1         0.0  0.995582  \n",
       "2         0.0  0.998471  \n",
       "3         0.0  0.985048  \n",
       "4         0.0  0.000000  \n",
       "...       ...       ...  \n",
       "11223     0.0  0.000000  \n",
       "11224     0.0  0.000000  \n",
       "11225     0.0  0.000000  \n",
       "11226     0.0  0.000000  \n",
       "11227     0.0  0.000000  \n",
       "\n",
       "[11228 rows x 9 columns]"
      ]
     },
     "execution_count": 12,
     "metadata": {},
     "output_type": "execute_result"
    }
   ],
   "source": [
    "# min max scale scores per cell type to make them more comparable between cell types \n",
    "scores_cell_celltype_norm = scores_cell_celltype.apply(lambda x: (x - np.min(x)) / (np.max(x) - np.min(x)))\n",
    "scores_cell_celltype_norm"
   ]
  },
  {
   "cell_type": "code",
   "execution_count": 13,
   "metadata": {},
   "outputs": [
    {
     "name": "stdout",
     "output_type": "stream",
     "text": [
      "0\n"
     ]
    }
   ],
   "source": [
    "# cell is annotated with the cell type with the highest score\n",
    "sc_cell_cellt = scores_cell_celltype_norm.idxmax(axis=1).to_dict()\n",
    "# all indices of scores_cell_celltype with max value of row < 0\n",
    "unknown_cells = scores_cell_celltype_norm[scores_cell_celltype_norm.max(axis=1) < 0].index.tolist()\n",
    "print(len(unknown_cells))\n",
    "# change the values of keys in list\n",
    "for i in unknown_cells:\n",
    "    sc_cell_cellt[i] = 'unknown'"
   ]
  },
  {
   "cell_type": "code",
   "execution_count": 14,
   "metadata": {},
   "outputs": [],
   "source": [
    "sc_cell_cellt = {str(k): v for k, v in sc_cell_cellt.items()}\n",
    "sdata.table.obs[\"annotation_own_score_genes\"] = sc_cell_cellt.values()\n",
    "# cleanliness of each annotation is calculated\n",
    "max_scores = scores_cell_celltype_norm.max(axis=1)\n",
    "second_scores = scores_cell_celltype_norm.apply(lambda x: x.nlargest(2).values[-1], axis=1)\n",
    "cleanliness = (max_scores - second_scores) / ((max_scores + second_scores) / 2)\n",
    "sc_cell_cleanl = cleanliness.to_dict()\n",
    "for i in unknown_cells:\n",
    "    sc_cell_cleanl[i] = 0\n",
    "sc_cell_cleanl = {str(k): v for k, v in sc_cell_cleanl.items()}\n",
    "sdata.table.obs[\"cleanliness_own_score_genes\"] = sc_cell_cleanl.values()"
   ]
  }
 ],
 "metadata": {
  "kernelspec": {
   "display_name": "napari-sparrow",
   "language": "python",
   "name": "python3"
  },
  "language_info": {
   "codemirror_mode": {
    "name": "ipython",
    "version": 3
   },
   "file_extension": ".py",
   "mimetype": "text/x-python",
   "name": "python",
   "nbconvert_exporter": "python",
   "pygments_lexer": "ipython3",
   "version": "3.10.8"
  },
  "orig_nbformat": 4
 },
 "nbformat": 4,
 "nbformat_minor": 2
}
