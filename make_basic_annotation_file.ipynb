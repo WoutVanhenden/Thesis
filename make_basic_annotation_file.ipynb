{
 "cells": [
  {
   "cell_type": "code",
   "execution_count": 1,
   "metadata": {},
   "outputs": [],
   "source": [
    "import pandas as pd"
   ]
  },
  {
   "cell_type": "code",
   "execution_count": 2,
   "metadata": {},
   "outputs": [
    {
     "name": "stdout",
     "output_type": "stream",
     "text": [
      "Index(['portal_vein_EC45', 'LSEC45', 'LSEC Portal', 'LSEC Central',\n",
      "       'central_vein_EC45', 'stellateAll', 'stellate PeriPortal',\n",
      "       'stellate PeriCentral', 'FibroblastAll', 'fibroblastPortal',\n",
      "       'FibroblastsCentral', 'VSMC', 'capsular_fibroblasts45',\n",
      "       'Mesothelial cells', 'Hepatocytes', 'HepatocytesPortal',\n",
      "       'HepatocytesCentral', 'Cholangiocytes', 'cDC2s', 'Mig. cDCs',\n",
      "       'Neutrophils', 'Basophils', 'NK cells', 'ILC1s', 'T cells', 'pDCs',\n",
      "       'B cells', 'cDC1s', 'Kupffer cells', 'Capsule and Central Vein Mac',\n",
      "       'Portal LAM macrophages', 'Monocytes', 'LECs'],\n",
      "      dtype='object')\n"
     ]
    }
   ],
   "source": [
    "# Marker genes:\n",
    "# not a basic cell type --> 'other'\n",
    "path_mg = \"/home/wout/Documents/Thesis_lokaal/Mouse_Liver_Resolve_Data/markerGeneListMartinNoLow.csv\"\n",
    "marker_genes = pd.read_csv(path_mg, sep=',', index_col=0)\n",
    "# print column names\n",
    "print(marker_genes.columns)"
   ]
  },
  {
   "cell_type": "code",
   "execution_count": 3,
   "metadata": {},
   "outputs": [],
   "source": [
    "# make a new dataframe\n",
    "marker_genes_basic = pd.DataFrame()\n",
    "marker_genes_basic['hepatocytes'] = marker_genes['Hepatocytes'] + marker_genes['HepatocytesPortal'] + marker_genes['HepatocytesCentral']\n",
    "marker_genes_basic['LSEC'] = marker_genes['LSEC45'] + marker_genes['LSEC Portal'] + marker_genes['LSEC Central']\n",
    "marker_genes_basic['endothelial cells'] = marker_genes['portal_vein_EC45'] + marker_genes['central_vein_EC45'] \n",
    "marker_genes_basic['cholongiocytes'] = marker_genes['Cholangiocytes']  \n",
    "marker_genes_basic['kupffer cells'] = marker_genes['Kupffer cells']\n",
    "marker_genes_basic['stellate cells'] = marker_genes['stellateAll'] + marker_genes['stellate PeriPortal'] + marker_genes['stellate PeriCentral'] \n",
    "marker_genes_basic['fibroblasts'] = marker_genes['FibroblastAll'] + marker_genes['fibroblastPortal'] + marker_genes['FibroblastsCentral'] + marker_genes['capsular_fibroblasts45']\n",
    "marker_genes_basic['B cells'] = marker_genes['B cells']\n",
    "marker_genes_basic['other'] = marker_genes['VSMC'] + marker_genes['Mesothelial cells'] + marker_genes['cDC1s'] + marker_genes['cDC2s'] + marker_genes['Mig. cDCs'] + marker_genes['Neutrophils'] + marker_genes['Basophils'] + marker_genes['NK cells'] + marker_genes['ILC1s'] + marker_genes['T cells'] + marker_genes['pDCs'] + marker_genes['Capsule and Central Vein Mac'] + marker_genes['Portal LAM macrophages'] + marker_genes['Monocytes'] + marker_genes['LECs']  \n",
    "marker_genes_basic\n",
    "# if value in marker_genes_basic is > 1, set to 1\n",
    "marker_genes_basic[marker_genes_basic > 1] = 1\n",
    "marker_genes_basic\n",
    "# save to csv\n",
    "marker_genes_basic.to_csv(\"/home/wout/Documents/Thesis_lokaal/Mouse_Liver_Resolve_Data/markerGeneListBasic.csv\")"
   ]
  }
 ],
 "metadata": {
  "kernelspec": {
   "display_name": "napari-sparrow",
   "language": "python",
   "name": "python3"
  },
  "language_info": {
   "codemirror_mode": {
    "name": "ipython",
    "version": 3
   },
   "file_extension": ".py",
   "mimetype": "text/x-python",
   "name": "python",
   "nbconvert_exporter": "python",
   "pygments_lexer": "ipython3",
   "version": "3.10.8"
  },
  "orig_nbformat": 4
 },
 "nbformat": 4,
 "nbformat_minor": 2
}
