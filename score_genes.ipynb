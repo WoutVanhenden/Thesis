{
 "cells": [
  {
   "cell_type": "code",
   "execution_count": null,
   "metadata": {},
   "outputs": [],
   "source": [
    "%load_ext autoreload\n",
    "%autoreload 2\n",
    "import warnings\n",
    "import numpy as np\n",
    "import time\n",
    "import os\n",
    "from dotenv import load_dotenv\n",
    "os.environ[\"USE_PYGEOS\"] = \"0\"\n",
    "import napari_sparrow as nas\n",
    "from spatialdata import read_zarr\n",
    "import os\n",
    "import pandas as pd\n",
    "import numpy as np\n",
    "import matplotlib.pyplot as plt\n",
    "from random import sample \n",
    "import scanpy as sc\n",
    "import seaborn as sns\n",
    "import anndata as ad\n",
    "%run own_and_modified_functions.ipynb\n",
    "warnings.simplefilter(action='ignore')"
   ]
  },
  {
   "cell_type": "code",
   "execution_count": null,
   "metadata": {},
   "outputs": [],
   "source": [
    "# IMPORT ANNDATA OBJECT\n",
    "OUTPUT_DIR = '/home/wout/Documents/Thesis_lokaal/Mouse_Liver_Resolve_Data/A1-1'\n",
    "# sdata = read_zarr( os.path.join(  OUTPUT_DIR, 'sdata.zarr'  ) )\n",
    "# anndata = sdata.table\n",
    "name_anndata = \"anndataNucA11\"\n",
    "anndata = sc.read(OUTPUT_DIR + '/' + name_anndata) "
   ]
  },
  {
   "cell_type": "code",
   "execution_count": null,
   "metadata": {},
   "outputs": [],
   "source": [
    "# GENERATE UMAP\n",
    "n_pca = np.count_nonzero(anndata.uns['pca']['variance_ratio'] > 0.01)\n",
    "make_umap(anndata,n_PCAs=n_pca,n_neighbors=15)"
   ]
  },
  {
   "cell_type": "code",
   "execution_count": null,
   "metadata": {},
   "outputs": [],
   "source": [
    "# LEIDEN OVERCLUSTERING\n",
    "sc.tl.leiden(anndata,resolution=10,key_added='leiden')\n",
    "sc.pl.umap(anndata,color='leiden',palette=list(matplotlib.colors.CSS4_COLORS.values()))"
   ]
  },
  {
   "cell_type": "code",
   "execution_count": null,
   "metadata": {},
   "outputs": [],
   "source": [
    "# PART 1\n",
    "# Apply the original and new score genes functions based on a list of marker genes"
   ]
  },
  {
   "cell_type": "code",
   "execution_count": null,
   "metadata": {},
   "outputs": [],
   "source": [
    "# IMPORT MARKER GENES\n",
    "path_mg_Martin = \"/home/wout/Documents/Thesis_lokaal/Mouse_Liver_Resolve_Data/markerGeneListHL_othIm_endoSplit_portalLAM.csv\"\n",
    "Jaccard_similarity_matrix(path_mg_Martin)"
   ]
  },
  {
   "cell_type": "code",
   "execution_count": null,
   "metadata": {},
   "outputs": [],
   "source": [
    "# ORIGINAL SCORE GENES\n",
    "mg_dict, scoresper_cluster = score_genes_bins(\n",
    "    anndata,\n",
    "    path_marker_genes = path_mg_Martin,\n",
    "    bins = 25,\n",
    "    suffix = '_Martin'\n",
    "    )\n",
    "visualize_classification(anndata,'annotation_score_genes_25_Martin','umap_15',path_mg_Martin,plot_dot_plot=False,plot_rank_genes_groups=False,plot_image=False)"
   ]
  }
 ],
 "metadata": {
  "language_info": {
   "name": "python"
  }
 },
 "nbformat": 4,
 "nbformat_minor": 2
}
