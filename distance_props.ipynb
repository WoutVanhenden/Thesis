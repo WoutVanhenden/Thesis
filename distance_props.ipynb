{
 "cells": [
  {
   "cell_type": "code",
   "execution_count": 1,
   "metadata": {},
   "outputs": [
    {
     "name": "stderr",
     "output_type": "stream",
     "text": [
      "/home/wout/mambaforge/envs/napari-sparrow/lib/python3.10/site-packages/geopandas/_compat.py:123: UserWarning: The Shapely GEOS version (3.11.1-CAPI-1.17.1) is incompatible with the GEOS version PyGEOS was compiled with (3.10.4-CAPI-1.16.2). Conversions between both will be slow.\n",
      "  warnings.warn(\n",
      "/tmp/ipykernel_15490/2732615920.py:22: UserWarning: Shapely 2.0 is installed, but because PyGEOS is also installed, GeoPandas will still use PyGEOS by default for now. To force to use and test Shapely 2.0, you have to set the environment variable USE_PYGEOS=0. You can do this before starting the Python process, or in your code before importing geopandas:\n",
      "\n",
      "import os\n",
      "os.environ['USE_PYGEOS'] = '0'\n",
      "import geopandas\n",
      "\n",
      "In a future release, GeoPandas will switch to using Shapely by default. If you are using PyGEOS directly (calling PyGEOS functions on geometries from GeoPandas), this will then stop working and you are encouraged to migrate from PyGEOS to Shapely 2.0 (https://shapely.readthedocs.io/en/latest/migration_pygeos.html).\n",
      "  import geopandas\n",
      "/home/wout/mambaforge/envs/napari-sparrow/lib/python3.10/site-packages/spatialdata/__init__.py:9: UserWarning: Geopandas was set to use PyGEOS, changing to shapely 2.0 with:\n",
      "\n",
      "\tgeopandas.options.use_pygeos = True\n",
      "\n",
      "If you intended to use PyGEOS, set the option to False.\n",
      "  _check_geopandas_using_shapely()\n"
     ]
    }
   ],
   "source": [
    "%load_ext autoreload\n",
    "%autoreload 2\n",
    "from anndata import AnnData\n",
    "import squidpy as sq\n",
    "import scanpy as sc\n",
    "import matplotlib.pyplot as plt\n",
    "#%matplotlib widget\n",
    "import cv2\n",
    "import torch\n",
    "from skimage import io, morphology\n",
    "import skimage.feature as features\n",
    "from scipy import ndimage\n",
    "import time\n",
    "from tqdm.notebook import tqdm\n",
    "import scipy\n",
    "import seaborn as sns\n",
    "\n",
    "import skimage\n",
    "from skimage.measure import regionprops, regionprops_table, approximate_polygon\n",
    "from shapely.geometry import Polygon\n",
    "from shapely.geometry.polygon import LinearRing\n",
    "import geopandas\n",
    "import scanpy as sc\n",
    "import rasterio\n",
    "from rasterio import features\n",
    "import shapely\n",
    "from shapely.geometry import Point, Polygon\n",
    "import matplotlib\n",
    "from matplotlib.colors import Normalize\n",
    "import spatialdata as sd\n",
    "import napari\n",
    "import numpy as np\n",
    "from spatialdata import read_zarr"
   ]
  },
  {
   "cell_type": "code",
   "execution_count": 2,
   "metadata": {},
   "outputs": [
    {
     "name": "stderr",
     "output_type": "stream",
     "text": [
      "the value of the environment variable BASIC_DCT_BACKEND is not in [\"JAX\",\"SCIPY\"]\n"
     ]
    }
   ],
   "source": [
    "import napari_sparrow as sp\n",
    "import os\n",
    "os.environ[\"USE_PYGEOS\"] = \"0\""
   ]
  },
  {
   "cell_type": "markdown",
   "metadata": {},
   "source": [
    "## Read in the data "
   ]
  },
  {
   "cell_type": "code",
   "execution_count": 3,
   "metadata": {},
   "outputs": [],
   "source": [
    "OUTPUT_DIR = '/home/wout/Documents/Thesis_lokaal/Mouse_Liver_Resolve_Data/PS'\n",
    "sdata = read_zarr(os.path.join(  OUTPUT_DIR, 'sdata.zarr'  ) )\n",
    "name_anndata = \"ps_slice\"\n",
    "anndata = sc.read(OUTPUT_DIR + '/' + name_anndata + '_all_0threshold')"
   ]
  },
  {
   "cell_type": "code",
   "execution_count": 4,
   "metadata": {},
   "outputs": [
    {
     "data": {
      "text/plain": [
       "SpatialData object with:\n",
       "├── Images\n",
       "│     ├── 'Clec4f': SpatialImage[cyx] (1, 17152, 17152)\n",
       "│     ├── 'Laminin': SpatialImage[cyx] (1, 17152, 17152)\n",
       "│     ├── 'alpha-Laminin': SpatialImage[cyx] (1, 21440, 17152)\n",
       "│     ├── 'alpha-Laminin_2': SpatialImage[cyx] (1, 17152, 17152)\n",
       "│     ├── 'clahe_2': SpatialImage[cyx] (1, 17152, 17152)\n",
       "│     ├── 'clec4f_thres': SpatialImage[cyx] (1, 17152, 17152)\n",
       "│     ├── 'min_max_filtered_2': SpatialImage[cyx] (1, 17152, 17152)\n",
       "│     ├── 'raw_image': SpatialImage[cyx] (1, 17152, 17152)\n",
       "│     ├── 'tiling_correction': SpatialImage[cyx] (1, 17152, 17152)\n",
       "│     ├── 'tiling_correction_clec4f': SpatialImage[cyx] (1, 17152, 17152)\n",
       "│     └── 'transcript_density': SpatialImage[cyx] (1, 17152, 17152)\n",
       "├── Labels\n",
       "│     ├── 'segmentation_mask': SpatialImage[yx] (17152, 17152)\n",
       "│     └── 'segmentation_mask_Clec4f': SpatialImage[yx] (17152, 17152)\n",
       "├── Points\n",
       "│     └── 'transcripts': DataFrame with shape: (2371573, 3) (2D points)\n",
       "├── Shapes\n",
       "│     ├── 'Clec4f_napari': GeoDataFrame shape: (3714, 1) (2D shapes)\n",
       "│     ├── 'filtered_low_counts_segmentation_mask_boundaries': GeoDataFrame shape: (3477, 1) (2D shapes)\n",
       "│     ├── 'filtered_low_counts_segmentation_mask_boundaries_napari': GeoDataFrame shape: (3477, 1) (2D shapes)\n",
       "│     ├── 'filtered_segmentation_segmentation_mask_boundaries': GeoDataFrame shape: (948, 1) (2D shapes)\n",
       "│     ├── 'filtered_segmentation_segmentation_mask_boundaries_napari': GeoDataFrame shape: (948, 1) (2D shapes)\n",
       "│     ├── 'filtered_size_segmentation_mask_boundaries': GeoDataFrame shape: (153, 1) (2D shapes)\n",
       "│     ├── 'filtered_size_segmentation_mask_boundaries_napari': GeoDataFrame shape: (153, 1) (2D shapes)\n",
       "│     ├── 'segmentation_mask_boundaries': GeoDataFrame shape: (13451, 1) (2D shapes)\n",
       "│     ├── 'segmentation_mask_boundaries_Clec4f': GeoDataFrame shape: (3714, 1) (2D shapes)\n",
       "│     └── 'to_plot_napari': GeoDataFrame shape: (13451, 1) (2D shapes)\n",
       "└── Table\n",
       "      └── AnnData object with n_obs × n_vars = 13451 × 98\n",
       "    obs: 'region', 'instance', 'n_genes_by_counts', 'log1p_n_genes_by_counts', 'total_counts', 'log1p_total_counts', 'pct_counts_in_top_2_genes', 'pct_counts_in_top_5_genes', 'n_counts', 'shapeSize', 'leiden', 'KC', 'Hepatocytes', 'Stellate', 'Endothelial', 'Cholangiocyte', 'Cleanliness', 'annotation', 'score_celltype_own_score_genes', 'second_score_celltype_own_score_genes', 'cleanliness_own_score_genes', 'annotation_own_score_genes_start_iterative', 'annotationSave', 'density', 'annotation_own_score_genes', 'score_celltype_own_score_genesKC1KC2', 'second_score_celltype_own_score_genesKC1KC2', 'cleanliness_own_score_genesKC1KC2', 'annotation_own_score_genes_start_iterativeKC1KC2', 'annotation_own_score_genesKC1KC2'\n",
       "    var: 'n_cells_by_counts', 'mean_counts', 'log1p_mean_counts', 'pct_dropout_by_counts', 'total_counts', 'log1p_total_counts', 'n_cells', 'mean', 'std'\n",
       "    uns: 'annotation_colors', 'annotation_nhood_enrichment', 'annotation_own_score_genesKC1KC2_colors', 'annotation_own_score_genes_colors', 'leiden', 'leiden_colors', 'log1p', 'neighbors', 'own_score_genes', 'own_score_genesKC1KC2', 'own_score_genes_start_iterative', 'own_score_genes_start_iterativeKC1KC2', 'pca', 'rank_genes_groups', 'spatial_neighbors', 'spatialdata_attrs', 'umap'\n",
       "    obsm: 'X_pca', 'X_umap', 'spatial'\n",
       "    varm: 'PCs'\n",
       "    layers: 'raw_counts'\n",
       "    obsp: 'connectivities', 'distances', 'spatial_connectivities', 'spatial_distances': AnnData (13451, 98)\n",
       "with coordinate systems:\n",
       "▸ 'global', with elements:\n",
       "        Clec4f (Images), Laminin (Images), alpha-Laminin (Images), alpha-Laminin_2 (Images), clahe_2 (Images), clec4f_thres (Images), min_max_filtered_2 (Images), raw_image (Images), tiling_correction (Images), tiling_correction_clec4f (Images), transcript_density (Images), segmentation_mask (Labels), segmentation_mask_Clec4f (Labels), transcripts (Points), Clec4f_napari (Shapes), filtered_low_counts_segmentation_mask_boundaries (Shapes), filtered_low_counts_segmentation_mask_boundaries_napari (Shapes), filtered_segmentation_segmentation_mask_boundaries (Shapes), filtered_segmentation_segmentation_mask_boundaries_napari (Shapes), filtered_size_segmentation_mask_boundaries (Shapes), filtered_size_segmentation_mask_boundaries_napari (Shapes), segmentation_mask_boundaries (Shapes), segmentation_mask_boundaries_Clec4f (Shapes), to_plot_napari (Shapes)"
      ]
     },
     "execution_count": 4,
     "metadata": {},
     "output_type": "execute_result"
    }
   ],
   "source": [
    "sdata"
   ]
  },
  {
   "cell_type": "markdown",
   "metadata": {},
   "source": [
    "## Open Napari and plot the images"
   ]
  },
  {
   "cell_type": "code",
   "execution_count": 5,
   "metadata": {},
   "outputs": [
    {
     "name": "stderr",
     "output_type": "stream",
     "text": [
      "WARNING: Could not find the Qt platform plugin \"wayland\" in \"\"\n",
      "/home/wout/mambaforge/envs/napari-sparrow/lib/python3.10/site-packages/napari/_vispy/layers/image.py:231: UserWarning: data shape (17152, 17152) exceeds GL_MAX_TEXTURE_SIZE 16384 in at least one axis and will be downsampled. Rendering is currently in 2D mode.\n",
      "  warnings.warn(\n",
      "/home/wout/mambaforge/envs/napari-sparrow/lib/python3.10/site-packages/napari/_vispy/layers/image.py:231: UserWarning: data shape (17152, 17152) exceeds GL_MAX_TEXTURE_SIZE 16384 in at least one axis and will be downsampled. Rendering is currently in 2D mode.\n",
      "  warnings.warn(\n"
     ]
    },
    {
     "data": {
      "text/plain": [
       "<Image layer 'Image' at 0x795e13383100>"
      ]
     },
     "execution_count": 5,
     "metadata": {},
     "output_type": "execute_result"
    }
   ],
   "source": [
    "viewer = napari.Viewer() # open napari\n",
    "viewer.add_image(sdata['raw_image'])  # load in image"
   ]
  },
  {
   "cell_type": "code",
   "execution_count": 6,
   "metadata": {},
   "outputs": [
    {
     "name": "stderr",
     "output_type": "stream",
     "text": [
      "/home/wout/mambaforge/envs/napari-sparrow/lib/python3.10/site-packages/napari/_vispy/layers/image.py:231: UserWarning: data shape (17152, 17152) exceeds GL_MAX_TEXTURE_SIZE 16384 in at least one axis and will be downsampled. Rendering is currently in 2D mode.\n",
      "  warnings.warn(\n",
      "/home/wout/mambaforge/envs/napari-sparrow/lib/python3.10/site-packages/napari/_vispy/layers/image.py:231: UserWarning: data shape (17152, 17152) exceeds GL_MAX_TEXTURE_SIZE 16384 in at least one axis and will be downsampled. Rendering is currently in 2D mode.\n",
      "  warnings.warn(\n",
      "/home/wout/mambaforge/envs/napari-sparrow/lib/python3.10/site-packages/napari/_vispy/layers/image.py:231: UserWarning: data shape (17152, 17152) exceeds GL_MAX_TEXTURE_SIZE 16384 in at least one axis and will be downsampled. Rendering is currently in 2D mode.\n",
      "  warnings.warn(\n",
      "/home/wout/mambaforge/envs/napari-sparrow/lib/python3.10/site-packages/napari/_vispy/layers/image.py:231: UserWarning: data shape (17152, 17152) exceeds GL_MAX_TEXTURE_SIZE 16384 in at least one axis and will be downsampled. Rendering is currently in 2D mode.\n",
      "  warnings.warn(\n"
     ]
    },
    {
     "data": {
      "text/plain": [
       "<Image layer 'kupffer cells' at 0x795d801dafb0>"
      ]
     },
     "execution_count": 6,
     "metadata": {},
     "output_type": "execute_result"
    }
   ],
   "source": [
    "viewer.add_image(sdata['alpha-Laminin_2'],colormap='green',blending='additive',name='endothelial cells')  \n",
    "viewer.add_image(sdata['Clec4f'],colormap='red',blending='additive',name='kupffer cells')  "
   ]
  },
  {
   "cell_type": "markdown",
   "metadata": {},
   "source": [
    "## Add cells to the mix"
   ]
  },
  {
   "cell_type": "code",
   "execution_count": 7,
   "metadata": {},
   "outputs": [],
   "source": [
    "def prepare_napari_plot(sdata,cutoff_shapes=0.5,shapes_layer='segmentation_mask_boundaries',output_layer='to_plot_napari'):\n",
    "    '''create polygons instead of multipolygons and simplify the shapes so the plotting is faster.'''\n",
    "    temp=sdata[shapes_layer].explode()\n",
    "    temp['Area']=temp.area\n",
    "    temp=temp.sort_values(by='Area',ascending=False)\n",
    "    temp.index=temp.index.droplevel(1)\n",
    "    temp = temp[~temp.index.duplicated(keep='first')]\n",
    "    if shapes_layer=='segmentation_mask_boundaries':\n",
    "        temp=temp.reindex(sdata.table.obs.index)\n",
    "    #adata=adata[temp.percent_area>cutoff_shapes,:]\n",
    "    \n",
    "    \n",
    "    sdata.add_shapes(\n",
    "                name=output_layer,\n",
    "                shapes=sd.models.ShapesModel.parse(temp\n",
    "                ),\n",
    "                overwrite=True,\n",
    "            )\n",
    "    #adata.obsm['napari_plot']=temp2[['geometry','percent_area']]\n",
    "    return sdata "
   ]
  },
  {
   "cell_type": "code",
   "execution_count": 8,
   "metadata": {},
   "outputs": [
    {
     "name": "stderr",
     "output_type": "stream",
     "text": [
      "/tmp/ipykernel_15490/932256232.py:3: FutureWarning: Currently, index_parts defaults to True, but in the future, it will default to False to be consistent with Pandas. Use `index_parts=True` to keep the current behavior and True/False to silence the warning.\n",
      "  temp=sdata[shapes_layer].explode()\n"
     ]
    }
   ],
   "source": [
    "sdata=prepare_napari_plot(sdata,shapes_layer='segmentation_mask_boundaries_Clec4f',output_layer='Clec4f_napari')"
   ]
  },
  {
   "cell_type": "code",
   "execution_count": 9,
   "metadata": {},
   "outputs": [],
   "source": [
    "def add_napari_layer(sdata,column=None,name=None,celltype=None,colormap='magma'):\n",
    "    \"\"\"\n",
    "    Function to plot the cells into napari, colored by the correct olumn\n",
    "    If you want a subset, just take a subset of the anndata before adding this. Don't use the function to change color, only to add an extra layer.\"\"\"\n",
    "    if celltype: \n",
    "        adata=sdata.table[sdata.table.obs['annotation_own_score_genes']==celltype,:]\n",
    "        if not name:\n",
    "            name=celltype\n",
    "    else:\n",
    "        adata=sdata.table\n",
    "    coords_to_plot=[]\n",
    "    to_color=None\n",
    "    #adata.obsm['napari_plot']=geopandas.GeoDataFrame(adata.obsm['napari_plot'],geometry=adata.obsm['napari_plot']['geometry'])\n",
    "    if column:\n",
    "        if column + \"_colors\" in adata.uns:\n",
    "                color_dict=dict(zip(adata.obs[column].cat.categories.values,adata.uns[column + \"_colors\"]))\n",
    "                to_color=adata.obs[column].map(color_dict)\n",
    "                print('colors from adata used')\n",
    "    for i in sdata['to_plot_napari'].loc[adata.obs.index.values].geometry.exterior.simplify(tolerance=2):\n",
    "        coords_to_plot.append(np.array(i.coords)[:,[1,0]]) \n",
    "    Columns=dict(zip(adata.var.index.values,adata.X.T))\n",
    "    Columns.update(adata.obs.to_dict('list'))\n",
    "    if not name:\n",
    "        name=column\n",
    "    if name in viewer.layers:\n",
    "        viewer.layers[name].features=Columns\n",
    "        if to_color:\n",
    "            print('layer reused')\n",
    "            viewer.layers[name].face_color=to_color.values\n",
    "        if column in viewer.layers[name].features:\n",
    "            print('layer reused')\n",
    "            viewer.layers[name].face_color=column\n",
    "            viewer.layers[name].face_colormap =colormap\n",
    "    elif to_color is not None:\n",
    "        viewer.add_shapes(coords_to_plot,name=name,shape_type='polygon',face_color=to_color.values.astype(str),opacity=0.7,edge_width=3,edge_color='white',features=Columns)\n",
    "    elif column in Columns.keys():\n",
    "        viewer.add_shapes(coords_to_plot,name=name,shape_type='polygon',face_color=column,opacity=0.7,edge_width=3,edge_color='white',features=Columns,face_colormap=colormap)\n",
    "    elif column==None:\n",
    "        viewer.add_shapes(coords_to_plot,name=name,shape_type='polygon',face_color=colormap,opacity=0.7,edge_width=3,edge_color='white',features=Columns)"
   ]
  },
  {
   "cell_type": "code",
   "execution_count": 10,
   "metadata": {},
   "outputs": [
    {
     "name": "stdout",
     "output_type": "stream",
     "text": [
      "colors from adata used\n"
     ]
    }
   ],
   "source": [
    "add_napari_layer(sdata,'annotation_own_score_genes')"
   ]
  },
  {
   "cell_type": "code",
   "execution_count": 11,
   "metadata": {},
   "outputs": [
    {
     "ename": "IndexError",
     "evalue": "list index out of range",
     "output_type": "error",
     "traceback": [
      "\u001b[0;31m---------------------------------------------------------------------------\u001b[0m",
      "\u001b[0;31mIndexError\u001b[0m                                Traceback (most recent call last)",
      "Cell \u001b[0;32mIn [11], line 3\u001b[0m\n\u001b[1;32m      1\u001b[0m add_napari_layer(sdata,celltype\u001b[38;5;241m=\u001b[39m\u001b[38;5;124m'\u001b[39m\u001b[38;5;124mKC\u001b[39m\u001b[38;5;124m'\u001b[39m,colormap\u001b[38;5;241m=\u001b[39m\u001b[38;5;124m'\u001b[39m\u001b[38;5;124mred\u001b[39m\u001b[38;5;124m'\u001b[39m)\n\u001b[1;32m      2\u001b[0m add_napari_layer(sdata,celltype\u001b[38;5;241m=\u001b[39m\u001b[38;5;124m'\u001b[39m\u001b[38;5;124mStellate\u001b[39m\u001b[38;5;124m'\u001b[39m,colormap\u001b[38;5;241m=\u001b[39m\u001b[38;5;124m'\u001b[39m\u001b[38;5;124myellow\u001b[39m\u001b[38;5;124m'\u001b[39m)\n\u001b[0;32m----> 3\u001b[0m \u001b[43madd_napari_layer\u001b[49m\u001b[43m(\u001b[49m\u001b[43msdata\u001b[49m\u001b[43m,\u001b[49m\u001b[43mcelltype\u001b[49m\u001b[38;5;241;43m=\u001b[39;49m\u001b[38;5;124;43m'\u001b[39;49m\u001b[38;5;124;43mEndothelial\u001b[39;49m\u001b[38;5;124;43m'\u001b[39;49m\u001b[43m,\u001b[49m\u001b[43mcolormap\u001b[49m\u001b[38;5;241;43m=\u001b[39;49m\u001b[38;5;124;43m'\u001b[39;49m\u001b[38;5;124;43mgreen\u001b[39;49m\u001b[38;5;124;43m'\u001b[39;49m\u001b[43m)\u001b[49m\n\u001b[1;32m      4\u001b[0m add_napari_layer(sdata,celltype\u001b[38;5;241m=\u001b[39m\u001b[38;5;124m'\u001b[39m\u001b[38;5;124mHepatocytes\u001b[39m\u001b[38;5;124m'\u001b[39m,colormap\u001b[38;5;241m=\u001b[39m\u001b[38;5;124m'\u001b[39m\u001b[38;5;124morange\u001b[39m\u001b[38;5;124m'\u001b[39m)\n",
      "Cell \u001b[0;32mIn [9], line 39\u001b[0m, in \u001b[0;36madd_napari_layer\u001b[0;34m(sdata, column, name, celltype, colormap)\u001b[0m\n\u001b[1;32m     37\u001b[0m     viewer\u001b[38;5;241m.\u001b[39madd_shapes(coords_to_plot,name\u001b[38;5;241m=\u001b[39mname,shape_type\u001b[38;5;241m=\u001b[39m\u001b[38;5;124m'\u001b[39m\u001b[38;5;124mpolygon\u001b[39m\u001b[38;5;124m'\u001b[39m,face_color\u001b[38;5;241m=\u001b[39mcolumn,opacity\u001b[38;5;241m=\u001b[39m\u001b[38;5;241m0.7\u001b[39m,edge_width\u001b[38;5;241m=\u001b[39m\u001b[38;5;241m3\u001b[39m,edge_color\u001b[38;5;241m=\u001b[39m\u001b[38;5;124m'\u001b[39m\u001b[38;5;124mwhite\u001b[39m\u001b[38;5;124m'\u001b[39m,features\u001b[38;5;241m=\u001b[39mColumns,face_colormap\u001b[38;5;241m=\u001b[39mcolormap)\n\u001b[1;32m     38\u001b[0m \u001b[38;5;28;01melif\u001b[39;00m column\u001b[38;5;241m==\u001b[39m\u001b[38;5;28;01mNone\u001b[39;00m:\n\u001b[0;32m---> 39\u001b[0m     \u001b[43mviewer\u001b[49m\u001b[38;5;241;43m.\u001b[39;49m\u001b[43madd_shapes\u001b[49m\u001b[43m(\u001b[49m\u001b[43mcoords_to_plot\u001b[49m\u001b[43m,\u001b[49m\u001b[43mname\u001b[49m\u001b[38;5;241;43m=\u001b[39;49m\u001b[43mname\u001b[49m\u001b[43m,\u001b[49m\u001b[43mshape_type\u001b[49m\u001b[38;5;241;43m=\u001b[39;49m\u001b[38;5;124;43m'\u001b[39;49m\u001b[38;5;124;43mpolygon\u001b[39;49m\u001b[38;5;124;43m'\u001b[39;49m\u001b[43m,\u001b[49m\u001b[43mface_color\u001b[49m\u001b[38;5;241;43m=\u001b[39;49m\u001b[43mcolormap\u001b[49m\u001b[43m,\u001b[49m\u001b[43mopacity\u001b[49m\u001b[38;5;241;43m=\u001b[39;49m\u001b[38;5;241;43m0.7\u001b[39;49m\u001b[43m,\u001b[49m\u001b[43medge_width\u001b[49m\u001b[38;5;241;43m=\u001b[39;49m\u001b[38;5;241;43m3\u001b[39;49m\u001b[43m,\u001b[49m\u001b[43medge_color\u001b[49m\u001b[38;5;241;43m=\u001b[39;49m\u001b[38;5;124;43m'\u001b[39;49m\u001b[38;5;124;43mwhite\u001b[39;49m\u001b[38;5;124;43m'\u001b[39;49m\u001b[43m,\u001b[49m\u001b[43mfeatures\u001b[49m\u001b[38;5;241;43m=\u001b[39;49m\u001b[43mColumns\u001b[49m\u001b[43m)\u001b[49m\n",
      "File \u001b[0;32m~/mambaforge/envs/napari-sparrow/lib/python3.10/site-packages/napari/components/viewer_model.py:4\u001b[0m, in \u001b[0;36madd_shapes\u001b[0;34m(self, data, ndim, features, properties, property_choices, text, shape_type, edge_width, edge_color, edge_color_cycle, edge_colormap, edge_contrast_limits, face_color, face_color_cycle, face_colormap, face_contrast_limits, z_index, name, metadata, scale, translate, rotate, shear, affine, opacity, blending, visible, cache, experimental_clipping_planes)\u001b[0m\n\u001b[1;32m      1\u001b[0m \u001b[38;5;28;01mfrom\u001b[39;00m \u001b[38;5;21;01m__future__\u001b[39;00m \u001b[38;5;28;01mimport\u001b[39;00m annotations\n\u001b[1;32m      3\u001b[0m \u001b[38;5;28;01mimport\u001b[39;00m \u001b[38;5;21;01minspect\u001b[39;00m\n\u001b[0;32m----> 4\u001b[0m \u001b[38;5;28;01mimport\u001b[39;00m \u001b[38;5;21;01mitertools\u001b[39;00m\n\u001b[1;32m      5\u001b[0m \u001b[38;5;28;01mimport\u001b[39;00m \u001b[38;5;21;01mos\u001b[39;00m\n\u001b[1;32m      6\u001b[0m \u001b[38;5;28;01mimport\u001b[39;00m \u001b[38;5;21;01mwarnings\u001b[39;00m\n",
      "File \u001b[0;32m~/mambaforge/envs/napari-sparrow/lib/python3.10/site-packages/napari/layers/shapes/shapes.py:449\u001b[0m, in \u001b[0;36mShapes.__init__\u001b[0;34m(self, data, ndim, features, properties, property_choices, text, shape_type, edge_width, edge_color, edge_color_cycle, edge_colormap, edge_contrast_limits, face_color, face_color_cycle, face_colormap, face_contrast_limits, z_index, name, metadata, scale, translate, rotate, shear, affine, opacity, blending, visible, cache, experimental_clipping_planes)\u001b[0m\n\u001b[1;32m    447\u001b[0m \u001b[38;5;28;01melse\u001b[39;00m:\n\u001b[1;32m    448\u001b[0m     data, shape_type \u001b[38;5;241m=\u001b[39m extract_shape_type(data, shape_type)\n\u001b[0;32m--> 449\u001b[0m     data_ndim \u001b[38;5;241m=\u001b[39m \u001b[43mget_shape_ndim\u001b[49m\u001b[43m(\u001b[49m\u001b[43mdata\u001b[49m\u001b[43m)\u001b[49m\n\u001b[1;32m    450\u001b[0m     \u001b[38;5;28;01mif\u001b[39;00m ndim \u001b[38;5;129;01mis\u001b[39;00m \u001b[38;5;129;01mnot\u001b[39;00m \u001b[38;5;28;01mNone\u001b[39;00m \u001b[38;5;129;01mand\u001b[39;00m ndim \u001b[38;5;241m!=\u001b[39m data_ndim:\n\u001b[1;32m    451\u001b[0m         \u001b[38;5;28;01mraise\u001b[39;00m \u001b[38;5;167;01mValueError\u001b[39;00m(\n\u001b[1;32m    452\u001b[0m             trans\u001b[38;5;241m.\u001b[39m_(\n\u001b[1;32m    453\u001b[0m                 \u001b[38;5;124m\"\u001b[39m\u001b[38;5;124mShape dimensions must be equal to ndim\u001b[39m\u001b[38;5;124m\"\u001b[39m,\n\u001b[1;32m    454\u001b[0m                 deferred\u001b[38;5;241m=\u001b[39m\u001b[38;5;28;01mTrue\u001b[39;00m,\n\u001b[1;32m    455\u001b[0m             )\n\u001b[1;32m    456\u001b[0m         )\n",
      "File \u001b[0;32m~/mambaforge/envs/napari-sparrow/lib/python3.10/site-packages/napari/layers/shapes/_shapes_utils.py:1062\u001b[0m, in \u001b[0;36mget_shape_ndim\u001b[0;34m(data)\u001b[0m\n\u001b[1;32m   1060\u001b[0m     ndim \u001b[38;5;241m=\u001b[39m np\u001b[38;5;241m.\u001b[39marray(data)\u001b[38;5;241m.\u001b[39mshape[\u001b[38;5;241m2\u001b[39m]\n\u001b[1;32m   1061\u001b[0m \u001b[38;5;66;03m# just one shape\u001b[39;00m\n\u001b[0;32m-> 1062\u001b[0m \u001b[38;5;28;01melif\u001b[39;00m np\u001b[38;5;241m.\u001b[39marray(\u001b[43mdata\u001b[49m\u001b[43m[\u001b[49m\u001b[38;5;241;43m0\u001b[39;49m\u001b[43m]\u001b[49m)\u001b[38;5;241m.\u001b[39mndim \u001b[38;5;241m==\u001b[39m \u001b[38;5;241m1\u001b[39m:\n\u001b[1;32m   1063\u001b[0m     ndim \u001b[38;5;241m=\u001b[39m np\u001b[38;5;241m.\u001b[39marray(data)\u001b[38;5;241m.\u001b[39mshape[\u001b[38;5;241m1\u001b[39m]\n\u001b[1;32m   1064\u001b[0m \u001b[38;5;66;03m# list of different shapes\u001b[39;00m\n\u001b[1;32m   1065\u001b[0m \u001b[38;5;28;01melse\u001b[39;00m:\n",
      "\u001b[0;31mIndexError\u001b[0m: list index out of range"
     ]
    }
   ],
   "source": [
    "add_napari_layer(sdata,celltype='KC',colormap='red')\n",
    "add_napari_layer(sdata,celltype='Stellate',colormap='yellow')\n",
    "add_napari_layer(sdata,celltype='Endothelial',colormap='green')\n",
    "add_napari_layer(sdata,celltype='Hepatocytes',colormap='orange')"
   ]
  },
  {
   "cell_type": "markdown",
   "metadata": {},
   "source": [
    "## Add points into the mix"
   ]
  },
  {
   "cell_type": "code",
   "execution_count": 12,
   "metadata": {},
   "outputs": [],
   "source": [
    "df=sdata.points['transcripts'].compute()\n"
   ]
  },
  {
   "cell_type": "code",
   "execution_count": 14,
   "metadata": {},
   "outputs": [
    {
     "data": {
      "text/plain": [
       "<Points layer 'KC_genes [1]' at 0x795dc157ff70>"
      ]
     },
     "execution_count": 14,
     "metadata": {},
     "output_type": "execute_result"
    }
   ],
   "source": [
    "Kc=['Clec4f']\n",
    "viewer.add_points(df[df['gene'].isin(Kc)][['y','x']].values,size=20,face_color='darkred',name='KC_genes') # I have put the size on 15, if you want to zoom less to see the spots, you can\n"
   ]
  },
  {
   "cell_type": "code",
   "execution_count": 15,
   "metadata": {},
   "outputs": [],
   "source": [
    "genes_cytplasm=['Apoc4','Hpd','Glul','Cps1','Cyp2e1']\n",
    "genes_nucleus=['Cyp3a25','Pvt1','Egfr','Stox2','Ttc39c']"
   ]
  },
  {
   "cell_type": "code",
   "execution_count": 16,
   "metadata": {},
   "outputs": [
    {
     "data": {
      "text/plain": [
       "<Points layer 'genes_cytoplasm' at 0x795dc32af700>"
      ]
     },
     "execution_count": 16,
     "metadata": {},
     "output_type": "execute_result"
    }
   ],
   "source": [
    "viewer.add_points(df[df['gene'].isin(genes_cytplasm)][['y','x']].values,size=20,face_color='cyan',name='genes_cytoplasm') # I have put the size on 15, if you want to zoom less to see the spots, you can\n"
   ]
  },
  {
   "cell_type": "code",
   "execution_count": 17,
   "metadata": {},
   "outputs": [
    {
     "data": {
      "text/plain": [
       "<Points layer 'genes_nucleus' at 0x795dc2eca2f0>"
      ]
     },
     "execution_count": 17,
     "metadata": {},
     "output_type": "execute_result"
    }
   ],
   "source": [
    "viewer.add_points(df[df['gene'].isin(genes_nucleus)][['y','x']].values,size=20,face_color='magenta',name='genes_nucleus') # I have put the size on 15, if you want to zoom less to see the spots, you can\n"
   ]
  },
  {
   "cell_type": "markdown",
   "metadata": {},
   "source": [
    "## Load polygons back into python"
   ]
  },
  {
   "cell_type": "code",
   "execution_count": 18,
   "metadata": {},
   "outputs": [],
   "source": [
    "import rasterio\n",
    "def mask_to_polygons_layer(mask: np.ndarray) -> geopandas.GeoDataFrame:\n",
    "    \"\"\"Returns the polygons as GeoDataFrame\n",
    "\n",
    "    This function converts the mask to polygons.\n",
    "    https://rocreguant.com/convert-a-mask-into-a-polygon-for-images-using-shapely-and-rasterio/1786/\n",
    "    \"\"\"\n",
    "\n",
    "    all_polygons = []\n",
    "    all_values = []\n",
    "\n",
    "    # Extract the polygons from the mask\n",
    "    for shape, value in features.shapes(\n",
    "        mask.astype(np.int32),\n",
    "        mask=(mask > 0),\n",
    "        transform=rasterio.Affine(1.0, 0, 0, 0, 1.0, 0),\n",
    "    ):\n",
    "        all_polygons.append(shapely.geometry.shape(shape))\n",
    "        all_values.append(int(value))\n",
    "\n",
    "    return geopandas.GeoDataFrame(dict(geometry=all_polygons), index=all_values)"
   ]
  },
  {
   "cell_type": "code",
   "execution_count": 20,
   "metadata": {},
   "outputs": [],
   "source": [
    "shape=sdata['raw_image'].shape\n",
    "Portal = viewer.layers['veins'].to_labels(labels_shape=shape)"
   ]
  },
  {
   "cell_type": "code",
   "execution_count": 21,
   "metadata": {},
   "outputs": [],
   "source": [
    "veins_shapes=mask_to_polygons_layer(Portal)\n",
    "veins_shapes= veins_shapes.reset_index()\n"
   ]
  },
  {
   "cell_type": "code",
   "execution_count": 22,
   "metadata": {},
   "outputs": [],
   "source": [
    "import pandas as pd"
   ]
  },
  {
   "cell_type": "code",
   "execution_count": 23,
   "metadata": {},
   "outputs": [],
   "source": [
    "df=pd.DataFrame(index=sdata.table.obs.index)\n",
    "for i in veins_shapes.index.values:\n",
    "    df[i]=sdata['segmentation_mask_boundaries'].distance(veins_shapes.loc[i].geometry)\n",
    "sdata.table.obs['distance_portal']=df.min(axis=1)"
   ]
  },
  {
   "cell_type": "code",
   "execution_count": 24,
   "metadata": {},
   "outputs": [
    {
     "data": {
      "text/plain": [
       "<AxesSubplot: xlabel='annotation_own_score_genes', ylabel='distance_portal'>"
      ]
     },
     "execution_count": 24,
     "metadata": {},
     "output_type": "execute_result"
    },
    {
     "data": {
      "image/png": "[encoded data removed]",
      "text/plain": [
       "<Figure size 640x480 with 1 Axes>"
      ]
     },
     "metadata": {},
     "output_type": "display_data"
    }
   ],
   "source": [
    "import seaborn as sns \n",
    "# plot mboxplot of distance to portal vein per celltype\n",
    "sns.boxplot(x='annotation_own_score_genes',y='distance_portal',data=sdata.table.obs,whis=(5,90),showfliers=False)"
   ]
  },
  {
   "cell_type": "code",
   "execution_count": 25,
   "metadata": {},
   "outputs": [
    {
     "data": {
      "text/html": [
       "<div>\n",
       "<style scoped>\n",
       "    .dataframe tbody tr th:only-of-type {\n",
       "        vertical-align: middle;\n",
       "    }\n",
       "\n",
       "    .dataframe tbody tr th {\n",
       "        vertical-align: top;\n",
       "    }\n",
       "\n",
       "    .dataframe thead th {\n",
       "        text-align: right;\n",
       "    }\n",
       "</style>\n",
       "<table border=\"1\" class=\"dataframe\">\n",
       "  <thead>\n",
       "    <tr style=\"text-align: right;\">\n",
       "      <th></th>\n",
       "      <th>index</th>\n",
       "      <th>geometry</th>\n",
       "    </tr>\n",
       "  </thead>\n",
       "  <tbody>\n",
       "    <tr>\n",
       "      <th>0</th>\n",
       "      <td>18</td>\n",
       "      <td>POLYGON ((13962.000 1316.000, 13965.000 1316.0...</td>\n",
       "    </tr>\n",
       "    <tr>\n",
       "      <th>1</th>\n",
       "      <td>19</td>\n",
       "      <td>POLYGON ((13574.000 1398.000, 13575.000 1398.0...</td>\n",
       "    </tr>\n",
       "    <tr>\n",
       "      <th>2</th>\n",
       "      <td>16</td>\n",
       "      <td>POLYGON ((13825.000 1169.000, 13829.000 1169.0...</td>\n",
       "    </tr>\n",
       "    <tr>\n",
       "      <th>3</th>\n",
       "      <td>16</td>\n",
       "      <td>POLYGON ((13506.000 1840.000, 13506.000 1841.0...</td>\n",
       "    </tr>\n",
       "    <tr>\n",
       "      <th>4</th>\n",
       "      <td>17</td>\n",
       "      <td>POLYGON ((13899.000 1513.000, 13912.000 1513.0...</td>\n",
       "    </tr>\n",
       "    <tr>\n",
       "      <th>5</th>\n",
       "      <td>20</td>\n",
       "      <td>POLYGON ((15695.000 2908.000, 15697.000 2908.0...</td>\n",
       "    </tr>\n",
       "    <tr>\n",
       "      <th>6</th>\n",
       "      <td>13</td>\n",
       "      <td>POLYGON ((11664.000 2130.000, 11667.000 2130.0...</td>\n",
       "    </tr>\n",
       "    <tr>\n",
       "      <th>7</th>\n",
       "      <td>21</td>\n",
       "      <td>POLYGON ((15203.000 3411.000, 15204.000 3411.0...</td>\n",
       "    </tr>\n",
       "    <tr>\n",
       "      <th>8</th>\n",
       "      <td>14</td>\n",
       "      <td>POLYGON ((16247.000 5161.000, 16257.000 5161.0...</td>\n",
       "    </tr>\n",
       "    <tr>\n",
       "      <th>9</th>\n",
       "      <td>11</td>\n",
       "      <td>POLYGON ((3589.000 5734.000, 3593.000 5734.000...</td>\n",
       "    </tr>\n",
       "    <tr>\n",
       "      <th>10</th>\n",
       "      <td>10</td>\n",
       "      <td>POLYGON ((3932.000 5708.000, 3932.000 5778.000...</td>\n",
       "    </tr>\n",
       "    <tr>\n",
       "      <th>11</th>\n",
       "      <td>12</td>\n",
       "      <td>POLYGON ((7178.000 5703.000, 7192.000 5703.000...</td>\n",
       "    </tr>\n",
       "    <tr>\n",
       "      <th>12</th>\n",
       "      <td>15</td>\n",
       "      <td>POLYGON ((14774.000 5624.000, 14776.000 5624.0...</td>\n",
       "    </tr>\n",
       "    <tr>\n",
       "      <th>13</th>\n",
       "      <td>2</td>\n",
       "      <td>POLYGON ((13538.000 7787.000, 13538.000 7788.0...</td>\n",
       "    </tr>\n",
       "    <tr>\n",
       "      <th>14</th>\n",
       "      <td>2</td>\n",
       "      <td>POLYGON ((13537.000 7788.000, 13537.000 7789.0...</td>\n",
       "    </tr>\n",
       "    <tr>\n",
       "      <th>15</th>\n",
       "      <td>2</td>\n",
       "      <td>POLYGON ((13535.000 7789.000, 13537.000 7789.0...</td>\n",
       "    </tr>\n",
       "    <tr>\n",
       "      <th>16</th>\n",
       "      <td>6</td>\n",
       "      <td>POLYGON ((5031.000 8908.000, 5036.000 8908.000...</td>\n",
       "    </tr>\n",
       "    <tr>\n",
       "      <th>17</th>\n",
       "      <td>5</td>\n",
       "      <td>POLYGON ((3550.000 9967.000, 3551.000 9967.000...</td>\n",
       "    </tr>\n",
       "    <tr>\n",
       "      <th>18</th>\n",
       "      <td>3</td>\n",
       "      <td>POLYGON ((14565.000 11624.000, 14574.000 11624...</td>\n",
       "    </tr>\n",
       "    <tr>\n",
       "      <th>19</th>\n",
       "      <td>4</td>\n",
       "      <td>POLYGON ((3149.000 11521.000, 3151.000 11521.0...</td>\n",
       "    </tr>\n",
       "    <tr>\n",
       "      <th>20</th>\n",
       "      <td>1</td>\n",
       "      <td>POLYGON ((10936.000 11099.000, 11047.000 11099...</td>\n",
       "    </tr>\n",
       "    <tr>\n",
       "      <th>21</th>\n",
       "      <td>8</td>\n",
       "      <td>POLYGON ((2738.000 13780.000, 2739.000 13780.0...</td>\n",
       "    </tr>\n",
       "    <tr>\n",
       "      <th>22</th>\n",
       "      <td>9</td>\n",
       "      <td>POLYGON ((2253.000 13822.000, 2346.000 13822.0...</td>\n",
       "    </tr>\n",
       "    <tr>\n",
       "      <th>23</th>\n",
       "      <td>7</td>\n",
       "      <td>POLYGON ((5630.000 14098.000, 5634.000 14098.0...</td>\n",
       "    </tr>\n",
       "    <tr>\n",
       "      <th>24</th>\n",
       "      <td>22</td>\n",
       "      <td>POLYGON ((12626.000 14662.000, 12667.000 14662...</td>\n",
       "    </tr>\n",
       "    <tr>\n",
       "      <th>25</th>\n",
       "      <td>23</td>\n",
       "      <td>POLYGON ((14392.000 14876.000, 14397.000 14876...</td>\n",
       "    </tr>\n",
       "    <tr>\n",
       "      <th>26</th>\n",
       "      <td>24</td>\n",
       "      <td>POLYGON ((12471.000 15988.000, 12517.000 15988...</td>\n",
       "    </tr>\n",
       "  </tbody>\n",
       "</table>\n",
       "</div>"
      ],
      "text/plain": [
       "    index                                           geometry\n",
       "0      18  POLYGON ((13962.000 1316.000, 13965.000 1316.0...\n",
       "1      19  POLYGON ((13574.000 1398.000, 13575.000 1398.0...\n",
       "2      16  POLYGON ((13825.000 1169.000, 13829.000 1169.0...\n",
       "3      16  POLYGON ((13506.000 1840.000, 13506.000 1841.0...\n",
       "4      17  POLYGON ((13899.000 1513.000, 13912.000 1513.0...\n",
       "5      20  POLYGON ((15695.000 2908.000, 15697.000 2908.0...\n",
       "6      13  POLYGON ((11664.000 2130.000, 11667.000 2130.0...\n",
       "7      21  POLYGON ((15203.000 3411.000, 15204.000 3411.0...\n",
       "8      14  POLYGON ((16247.000 5161.000, 16257.000 5161.0...\n",
       "9      11  POLYGON ((3589.000 5734.000, 3593.000 5734.000...\n",
       "10     10  POLYGON ((3932.000 5708.000, 3932.000 5778.000...\n",
       "11     12  POLYGON ((7178.000 5703.000, 7192.000 5703.000...\n",
       "12     15  POLYGON ((14774.000 5624.000, 14776.000 5624.0...\n",
       "13      2  POLYGON ((13538.000 7787.000, 13538.000 7788.0...\n",
       "14      2  POLYGON ((13537.000 7788.000, 13537.000 7789.0...\n",
       "15      2  POLYGON ((13535.000 7789.000, 13537.000 7789.0...\n",
       "16      6  POLYGON ((5031.000 8908.000, 5036.000 8908.000...\n",
       "17      5  POLYGON ((3550.000 9967.000, 3551.000 9967.000...\n",
       "18      3  POLYGON ((14565.000 11624.000, 14574.000 11624...\n",
       "19      4  POLYGON ((3149.000 11521.000, 3151.000 11521.0...\n",
       "20      1  POLYGON ((10936.000 11099.000, 11047.000 11099...\n",
       "21      8  POLYGON ((2738.000 13780.000, 2739.000 13780.0...\n",
       "22      9  POLYGON ((2253.000 13822.000, 2346.000 13822.0...\n",
       "23      7  POLYGON ((5630.000 14098.000, 5634.000 14098.0...\n",
       "24     22  POLYGON ((12626.000 14662.000, 12667.000 14662...\n",
       "25     23  POLYGON ((14392.000 14876.000, 14397.000 14876...\n",
       "26     24  POLYGON ((12471.000 15988.000, 12517.000 15988..."
      ]
     },
     "execution_count": 25,
     "metadata": {},
     "output_type": "execute_result"
    }
   ],
   "source": [
    "veins_shapes"
   ]
  },
  {
   "cell_type": "code",
   "execution_count": null,
   "metadata": {},
   "outputs": [],
   "source": []
  }
 ],
 "metadata": {
  "kernelspec": {
   "display_name": "sparrow_2",
   "language": "python",
   "name": "python3"
  },
  "language_info": {
   "codemirror_mode": {
    "name": "ipython",
    "version": 3
   },
   "file_extension": ".py",
   "mimetype": "text/x-python",
   "name": "python",
   "nbconvert_exporter": "python",
   "pygments_lexer": "ipython3",
   "version": "3.10.8"
  }
 },
 "nbformat": 4,
 "nbformat_minor": 2
}
